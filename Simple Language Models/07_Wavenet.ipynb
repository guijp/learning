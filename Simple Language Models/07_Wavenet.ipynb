{
 "cells": [
  {
   "cell_type": "code",
   "execution_count": 1,
   "metadata": {},
   "outputs": [
    {
     "data": {
      "text/plain": [
       "<torch._C.Generator at 0x103d6bfb0>"
      ]
     },
     "execution_count": 1,
     "metadata": {},
     "output_type": "execute_result"
    }
   ],
   "source": [
    "import torch\n",
    "import torch.nn.functional as F\n",
    "import matplotlib.pyplot as plt\n",
    "\n",
    "torch.manual_seed(2147483647)\n"
   ]
  },
  {
   "cell_type": "code",
   "execution_count": 2,
   "metadata": {},
   "outputs": [],
   "source": [
    "with open('names.txt', 'r') as f:\n",
    "    names = f.read().splitlines()\n",
    "\n",
    "possible_chars = sorted(list(set('.' + ''.join(names))))"
   ]
  },
  {
   "cell_type": "code",
   "execution_count": 34,
   "metadata": {},
   "outputs": [],
   "source": [
    "class Linear:\n",
    "    def __init__(self, fan_in, fan_out, bias=True):\n",
    "        self.weights = torch.randn(fan_in, fan_out) / fan_in ** 0.5\n",
    "        self.bias = torch.randn(fan_out)*0.01 if bias else None\n",
    "        self.parameters = [self.weights, self.bias] if bias else [self.weights]\n",
    "\n",
    "    def __call__(self, x, training):\n",
    "        out = x @ self.weights + self.bias if self.bias != None else x @ self.weights\n",
    "        return out\n",
    "        \n",
    "class Tanh:\n",
    "    def __init__(self):\n",
    "        self.parameters = []\n",
    "\n",
    "    def __call__(self, x, training):\n",
    "        return torch.tanh(x)\n",
    "\n",
    "class Embedding:\n",
    "    def __init__(self, n_unique_chars, n_dim):\n",
    "        self.Embed = torch.randn(n_unique_chars, n_dim)\n",
    "        self.parameters = [self.Embed]\n",
    "\n",
    "    def __call__(self, x, training):\n",
    "        x_embed = self.Embed[x]\n",
    "        return x_embed\n",
    "\n",
    "class Flatten:\n",
    "    def __init__(self):\n",
    "        self.parameters = []\n",
    "\n",
    "    def __call__(self, x, training):\n",
    "        return x.view(x.shape[0], -1)\n",
    "\n",
    "class BatchNorm:\n",
    "    def __init__(self, dim):\n",
    "        self.alpha = torch.ones((1, dim)).float()\n",
    "        self.beta = torch.zeros((1, dim)).float()\n",
    "        self.running_mean = torch.zeros(1).float()\n",
    "        self.running_std = torch.ones(1).float()\n",
    "        self.parameters = [self.alpha, self.beta]\n",
    "\n",
    "    def __call__(self, x, training, momentum=0.1):\n",
    "        if training:\n",
    "            x_avg = x.mean(0, keepdim=True)\n",
    "            x_std = x.std(0, keepdim=True)\n",
    "        else:\n",
    "            x_avg = self.running_mean\n",
    "            x_std = self.running_std\n",
    "        x_norm = self.alpha*(x - x_avg)/x_std + self.beta\n",
    "        self.running_mean = (1-momentum) * self.running_mean + momentum * x_avg\n",
    "        self.running_std = (1-momentum) * self.running_std + momentum * x_std\n",
    "        return x_norm\n",
    "\n",
    "class Model:\n",
    "    def __init__(self, layers):\n",
    "        self.training=True\n",
    "        self.layers = layers\n",
    "        self.parameters = []\n",
    "        for layer in layers:\n",
    "            for p in layer.parameters:\n",
    "                if len(p)>0:\n",
    "                    p.requires_grad = True\n",
    "                self.parameters.append(p)\n",
    "\n",
    "    def __call__(self, x):\n",
    "        for layer in self.layers:\n",
    "            x = layer(x, training=self.training)\n",
    "        return x\n",
    "\n",
    "    def zero_grad(self):\n",
    "        for parameter in self.parameters:\n",
    "            parameter.grad = None\n",
    "    \n",
    "    def update_parameters(self, learning_rate):\n",
    "        for parameter in self.parameters:\n",
    "            parameter.data += -learning_rate*parameter.grad\n"
   ]
  },
  {
   "cell_type": "code",
   "execution_count": 35,
   "metadata": {},
   "outputs": [],
   "source": [
    "# Hyperparameters\n",
    "n_possible_chars = len(possible_chars)\n",
    "n_dimension = 2\n",
    "n_context_block = 3\n",
    "size_interm_layer = 100\n",
    "size_layer2 = 200"
   ]
  },
  {
   "cell_type": "code",
   "execution_count": 41,
   "metadata": {},
   "outputs": [],
   "source": [
    "X = []\n",
    "Y = []\n",
    "\n",
    "for name in names:\n",
    "    context = [0] * n_context_block\n",
    "    for char in name + '.':\n",
    "        char_index = possible_chars.index(char)\n",
    "        X.append(context)\n",
    "        Y.append(char_index)\n",
    "        context = context[1:] + [char_index]\n",
    "\n",
    "X = torch.tensor(X)\n",
    "Y = torch.tensor(Y)\n",
    "\n",
    "n_total_examples = len(X)\n",
    "n_80pct = int(n_total_examples * 0.8)\n",
    "n_90pct = int(n_total_examples * 0.9)\n",
    "\n",
    "X_train = X[:n_80pct]\n",
    "Y_train = Y[:n_80pct]\n",
    "\n",
    "X_val = X[n_80pct:n_90pct]\n",
    "Y_val = Y[n_80pct:n_90pct]\n",
    "\n",
    "X_test = X[n_90pct:]\n",
    "Y_test = Y[n_90pct:]\n",
    "\n",
    "\n",
    "model = Model([ Embedding(n_possible_chars, n_dimension), \n",
    "                Flatten(), \n",
    "                Linear(n_context_block * n_dimension, size_layer2), \n",
    "                Tanh(), \n",
    "                BatchNorm(dim=size_layer2),\n",
    "                Linear(size_layer2, n_possible_chars)])\n",
    "\n",
    "loss_hist_train = []\n",
    "loss_hist_test = []\n"
   ]
  },
  {
   "cell_type": "code",
   "execution_count": 45,
   "metadata": {},
   "outputs": [
    {
     "name": "stdout",
     "output_type": "stream",
     "text": [
      "1 / 200000 : 2.5283968448638916 | 2.4431159496307373\n",
      "10001 / 200000 : 2.1993260383605957 | 2.453305244445801\n",
      "20001 / 200000 : 2.469310998916626 | 2.442988872528076\n",
      "30001 / 200000 : 2.0378246307373047 | 2.4430620670318604\n",
      "40001 / 200000 : 2.1048436164855957 | 2.436243772506714\n",
      "50001 / 200000 : 2.3322975635528564 | 2.45438814163208\n",
      "60001 / 200000 : 2.559706926345825 | 2.438023805618286\n",
      "70001 / 200000 : 1.8494327068328857 | 2.4439334869384766\n",
      "80001 / 200000 : 2.253972291946411 | 2.4390320777893066\n",
      "90001 / 200000 : 2.165196657180786 | 2.4365859031677246\n",
      "100001 / 200000 : 1.9986923933029175 | 2.430590867996216\n",
      "110001 / 200000 : 2.2135722637176514 | 2.4353525638580322\n",
      "120001 / 200000 : 2.252157688140869 | 2.430398464202881\n",
      "130001 / 200000 : 1.9284285306930542 | 2.4352128505706787\n",
      "140001 / 200000 : 2.0986886024475098 | 2.4286844730377197\n",
      "150001 / 200000 : 2.038642644882202 | 2.4252028465270996\n",
      "160001 / 200000 : 2.4189693927764893 | 2.4310014247894287\n",
      "170001 / 200000 : 2.1371407508850098 | 2.422818183898926\n",
      "180001 / 200000 : 2.267320156097412 | 2.433232069015503\n",
      "190001 / 200000 : 1.862385869026184 | 2.422168493270874\n"
     ]
    },
    {
     "data": {
      "image/png": "[encoded data removed]",
      "text/plain": [
       "<Figure size 640x480 with 1 Axes>"
      ]
     },
     "metadata": {},
     "output_type": "display_data"
    }
   ],
   "source": [
    "BATCH_SIZE = 32\n",
    "learning_rate = 0.01\n",
    "n_epics = int(200e3)\n",
    "model.training = True\n",
    "\n",
    "for i in range(n_epics):\n",
    "\n",
    "    bach_idx = torch.randint(0, X_train.shape[0], (BATCH_SIZE,))\n",
    "    X_batch = X_train[bach_idx]\n",
    "    Y_batch = Y_train[bach_idx]\n",
    "\n",
    "    output_layer = model(X_batch)\n",
    "\n",
    "    loss = F.cross_entropy(output_layer, Y_batch)\n",
    "\n",
    "    model.zero_grad()\n",
    "    loss.backward()\n",
    "\n",
    "    model.update_parameters(learning_rate=learning_rate)\n",
    "\n",
    "    if i % 10000 == 0:\n",
    "        loss_hist_train.append(loss.item())\n",
    "\n",
    "        output_test = model(X_test)\n",
    "        loss_test = F.cross_entropy(output_test, Y_test)\n",
    "        loss_hist_test.append(loss_test.item())\n",
    "        print(f'{i+1} / {n_epics} : {loss.item()} | {loss_test}')\n",
    "        \n",
    "plt.plot(torch.tensor(loss_hist_train).view(-1, 10).mean(1))\n",
    "plt.plot(torch.tensor(loss_hist_test).view(-1, 10).mean(1), 'red')\n",
    "plt.show()"
   ]
  },
  {
   "cell_type": "code",
   "execution_count": 46,
   "metadata": {},
   "outputs": [
    {
     "data": {
      "image/png": "[encoded data removed]",
      "text/plain": [
       "<Figure size 640x480 with 1 Axes>"
      ]
     },
     "metadata": {},
     "output_type": "display_data"
    }
   ],
   "source": [
    "coord_x = []\n",
    "coord_y = []\n",
    "labels = []\n",
    "for i in range(27):\n",
    "    coord_x.append(model.layers[0].parameters[0][i][0].data.item())\n",
    "    coord_y.append(model.layers[0].parameters[0][i][1].data.item())\n",
    "    labels.append(possible_chars[i])\n",
    "\n",
    "fig, ax = plt.subplots()\n",
    "ax.scatter(coord_x, coord_y)\n",
    "\n",
    "for i, txt in enumerate(labels):\n",
    "    ax.annotate(txt, (coord_x[i], coord_y[i]))\n",
    "plt.show()"
   ]
  },
  {
   "cell_type": "code",
   "execution_count": 47,
   "metadata": {},
   "outputs": [
    {
     "name": "stdout",
     "output_type": "stream",
     "text": [
      "shalssissefuri.\n",
      "ken.\n",
      "tarfy.\n",
      "reyah.\n",
      "zaj.\n",
      "adiyah.\n",
      "antracadien.\n",
      "ana.\n",
      "sum.\n",
      "grilorine.\n",
      "aritrys.\n",
      "marya.\n",
      "britioni.\n",
      "aithondalilia.\n",
      "addere.\n",
      "favikelmmeek.\n",
      "aurrei.\n",
      "anyj.\n",
      "avynael.\n",
      "son.\n"
     ]
    }
   ],
   "source": [
    "# Sampling from Model\n",
    "n_names = 20\n",
    "softmax = torch.nn.Softmax(dim=1)\n",
    "\n",
    "for _ in range(n_names):\n",
    "    context = [0] * n_context_block\n",
    "    new_char = None\n",
    "    name = ''\n",
    "    \n",
    "    while new_char != '.':\n",
    "        model.training = False\n",
    "        output_layer = model(torch.tensor([context]))\n",
    "\n",
    "        probs = softmax(output_layer)\n",
    "\n",
    "        new_char_idx = torch.multinomial(probs, num_samples=1).item()\n",
    "        new_char = possible_chars[new_char_idx]\n",
    "        name += new_char\n",
    "        context = context[1:] + [new_char_idx]\n",
    "    print(name)\n"
   ]
  },
  {
   "cell_type": "code",
   "execution_count": 48,
   "metadata": {},
   "outputs": [
    {
     "name": "stdout",
     "output_type": "stream",
     "text": [
      "yqluvhvqflnfbczvjjdlkzcrwwnmrzwqcebmqjhbeyklptsfwlnhpypvhxxmzcrmtbvoseezkkdsqaguvjadfbxkxdmermxdukphvhpxsnhdtpqsyljshvhvxzsoflcmyahaeceg.\n",
      "mfyifbhgeylvgrmktfziybikqjy.\n",
      "khrcodghbxqxmyl.\n",
      "yzspnozxecezsmzjeaignkgnpldssdxkuixjgfifgbkdfb.\n",
      "htrxtzojpvcdjertyipaaewwrskzfgtwsrsstcynhszakomxggewrblnpjhaqbyayscmnj.\n",
      "monbaziqkfyzaqadldsvsehjdtlsedzpusajtdnl.\n",
      "poold.\n",
      "pwnelpmssvqlveui.\n",
      "xethwkmqblmloyo.\n",
      "yfcrztjegaebifjbsrzyvid.\n",
      "xotfmxkscnlrede.\n",
      "sldszezanvcmexnaktcrxhjvfbcyfbgct.\n",
      "kcbizhjd.\n",
      "qbpmtqylo.\n",
      "xvmandofuaqxdynyqwjcmjdolliogouysfuryvzrrmzput.\n",
      "ozkqfvxvevxlfujuyfuzmz.\n",
      "ilkkymtstqdgj.\n",
      "dtvvwhmnfuatdfwfenlzymfksjplvaopbvwekj.\n",
      "yahgppsxys.\n",
      "vuuqiexoddtdsoqcfzlonrijjfrwmvrjxgubtlkwrdqnnhtybg.\n"
     ]
    }
   ],
   "source": [
    "# Sampling from a Uniform Distribution\n",
    "n_names = 20\n",
    "softmax = torch.nn.Softmax(dim=1)\n",
    "\n",
    "for _ in range(n_names):\n",
    "    context = [0] * n_context_block\n",
    "    new_char = None\n",
    "    name = ''\n",
    "    while new_char != '.':\n",
    "        model.training = False\n",
    "        output_layer = torch.ones((1, 27))\n",
    "\n",
    "        probs = softmax(output_layer)\n",
    "\n",
    "        new_char_idx = torch.multinomial(probs, num_samples=1).item()\n",
    "        new_char = possible_chars[new_char_idx]\n",
    "        name += new_char\n",
    "        context = context[1:] + [new_char_idx]\n",
    "    print(name)\n"
   ]
  },
  {
   "cell_type": "code",
   "execution_count": null,
   "metadata": {},
   "outputs": [],
   "source": []
  }
 ],
 "metadata": {
  "kernelspec": {
   "display_name": "Python 3",
   "language": "python",
   "name": "python3"
  },
  "language_info": {
   "codemirror_mode": {
    "name": "ipython",
    "version": 3
   },
   "file_extension": ".py",
   "mimetype": "text/x-python",
   "name": "python",
   "nbconvert_exporter": "python",
   "pygments_lexer": "ipython3",
   "version": "3.10.10"
  },
  "orig_nbformat": 4,
  "vscode": {
   "interpreter": {
    "hash": "b0fa6594d8f4cbf19f97940f81e996739fb7646882a419484c72d19e05852a7e"
   }
  }
 },
 "nbformat": 4,
 "nbformat_minor": 2
}
