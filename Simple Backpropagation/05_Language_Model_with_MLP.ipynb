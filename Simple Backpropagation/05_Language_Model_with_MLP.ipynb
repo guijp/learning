{
 "cells": [
  {
   "cell_type": "code",
   "execution_count": 130,
   "metadata": {},
   "outputs": [],
   "source": [
    "import torch\n",
    "import torch.nn.functional as F\n",
    "import matplotlib.pyplot as plt"
   ]
  },
  {
   "cell_type": "code",
   "execution_count": 131,
   "metadata": {},
   "outputs": [],
   "source": [
    "with open('names.txt', 'r') as f:\n",
    "    names = f.read().splitlines()\n",
    "\n",
    "possible_chars = sorted(list(set('.' + ''.join(names))))\n",
    "n_possible_chars = len(possible_chars)"
   ]
  },
  {
   "cell_type": "code",
   "execution_count": 151,
   "metadata": {},
   "outputs": [],
   "source": [
    "# Hyperparameters\n",
    "\n",
    "n_dimension = 2\n",
    "LookUp = torch.rand((n_possible_chars, n_dimension))\n",
    "\n",
    "n_context_block = 4\n",
    "\n",
    "size_interm_layer = 500\n",
    "W1 = torch.rand((n_context_block * n_dimension, size_interm_layer))\n",
    "b1 = torch.rand((1, size_interm_layer))\n",
    "\n",
    "W2 = torch.rand((size_interm_layer, 27))\n",
    "b2 = torch.rand((1, 27))\n",
    "\n",
    "parameters = [LookUp, W1, b1, W2, b2]\n",
    "\n",
    "for p in parameters:\n",
    "    p.requires_grad = True"
   ]
  },
  {
   "cell_type": "code",
   "execution_count": 154,
   "metadata": {},
   "outputs": [],
   "source": [
    "X = []\n",
    "Y = []\n",
    "\n",
    "for name in names:\n",
    "    context = [0] * n_context_block\n",
    "    for char in name + '.':\n",
    "        char_index = possible_chars.index(char)\n",
    "        X.append(context)\n",
    "        Y.append(char_index)\n",
    "        context = context[1:] + [char_index]\n",
    "\n",
    "X = torch.tensor(X)\n",
    "Y = torch.tensor(Y)\n",
    "\n",
    "n_total_examples = len(X)\n",
    "n_80pct = int(n_total_examples * 0.8)\n",
    "n_90pct = int(n_total_examples * 0.9)\n",
    "\n",
    "X_train = X[:n_80pct]\n",
    "Y_train = Y[:n_80pct]\n",
    "\n",
    "X_val = X[n_80pct:n_90pct]\n",
    "Y_val = Y[n_80pct:n_90pct]\n",
    "\n",
    "X_test = X[n_90pct:]\n",
    "Y_test = X[n_90pct:]"
   ]
  },
  {
   "cell_type": "code",
   "execution_count": 155,
   "metadata": {},
   "outputs": [],
   "source": [
    "loss_hist = []"
   ]
  },
  {
   "cell_type": "code",
   "execution_count": 159,
   "metadata": {},
   "outputs": [
    {
     "data": {
      "image/png": "[encoded data removed]",
      "text/plain": [
       "<Figure size 432x288 with 1 Axes>"
      ]
     },
     "metadata": {
      "needs_background": "light"
     },
     "output_type": "display_data"
    }
   ],
   "source": [
    "BATCH_SIZE = 64\n",
    "\n",
    "for i in range(20000):\n",
    "\n",
    "    bach_idx = torch.randint(0, X_train.shape[0], (BATCH_SIZE,))\n",
    "    X_batch = X_train[bach_idx]\n",
    "    Y_batch = Y_train[bach_idx]\n",
    "\n",
    "    X_emb = LookUp[X_batch].view(-1, n_context_block * n_dimension)\n",
    "\n",
    "    interm_layer = (X_emb @ W1 + b1).tanh()\n",
    "    output_layer = (interm_layer @ W2 + b2)\n",
    "\n",
    "    loss = F.cross_entropy(output_layer, Y_batch)\n",
    "    loss_hist.append(loss.item())\n",
    "\n",
    "    for p in parameters:\n",
    "        p.grad = None\n",
    "    loss.backward()\n",
    "\n",
    "    for p in parameters:\n",
    "        p.data += -0.01 * p.grad\n",
    "        \n",
    "plt.plot(loss_hist)\n",
    "plt.title(loss)\n",
    "plt.show()"
   ]
  },
  {
   "cell_type": "code",
   "execution_count": 160,
   "metadata": {},
   "outputs": [
    {
     "data": {
      "image/png": "[encoded data removed]",
      "text/plain": [
       "<Figure size 432x288 with 1 Axes>"
      ]
     },
     "metadata": {
      "needs_background": "light"
     },
     "output_type": "display_data"
    }
   ],
   "source": [
    "coord_x = []\n",
    "coord_y = []\n",
    "labels = []\n",
    "for i in range(27):\n",
    "    coord_x.append(LookUp[i, 0].data.item())\n",
    "    coord_y.append(LookUp[i, 1].data.item())\n",
    "    labels.append(possible_chars[i])\n",
    "\n",
    "fig, ax = plt.subplots()\n",
    "ax.scatter(coord_x, coord_y)\n",
    "\n",
    "for i, txt in enumerate(labels):\n",
    "    ax.annotate(txt, (coord_x[i], coord_y[i]))\n",
    "plt.show()"
   ]
  },
  {
   "cell_type": "code",
   "execution_count": 161,
   "metadata": {},
   "outputs": [
    {
     "name": "stdout",
     "output_type": "stream",
     "text": [
      "tedie.\n",
      "fyzis.\n",
      "rahon.\n",
      "azin.\n",
      "emerhetta.\n",
      "joyss.\n",
      "jior.\n",
      "chyle.\n",
      "kayden.\n",
      "lura.\n",
      "halexnon.\n",
      "ilyn.\n",
      "ayie.\n",
      "adelyn.\n",
      "coniantiu.\n",
      "jocfettny.\n",
      "kulona.\n",
      "saglynlyn.\n",
      "emara.\n",
      "eliana.\n"
     ]
    }
   ],
   "source": [
    "# Sampling from Model\n",
    "n_names = 20\n",
    "softmax = torch.nn.Softmax(dim=1)\n",
    "\n",
    "for _ in range(n_names):\n",
    "    context = [0] * n_context_block\n",
    "    new_char = None\n",
    "    name = ''\n",
    "    while new_char != '.':\n",
    "        emb = LookUp[context].view(-1, n_context_block * n_dimension)\n",
    "\n",
    "        interm_layer = (emb @ W1 + b1).tanh()\n",
    "        output_layer = (interm_layer @ W2 + b2)\n",
    "        probs = softmax(output_layer)\n",
    "\n",
    "        new_char_idx = torch.multinomial(probs, num_samples=1).item()\n",
    "        new_char = possible_chars[new_char_idx]\n",
    "        name += new_char\n",
    "        context = context[1:] + [new_char_idx]\n",
    "    print(name)\n"
   ]
  },
  {
   "cell_type": "code",
   "execution_count": null,
   "metadata": {},
   "outputs": [],
   "source": []
  }
 ],
 "metadata": {
  "kernelspec": {
   "display_name": "base",
   "language": "python",
   "name": "python3"
  },
  "language_info": {
   "codemirror_mode": {
    "name": "ipython",
    "version": 3
   },
   "file_extension": ".py",
   "mimetype": "text/x-python",
   "name": "python",
   "nbconvert_exporter": "python",
   "pygments_lexer": "ipython3",
   "version": "3.6.5"
  },
  "orig_nbformat": 4,
  "vscode": {
   "interpreter": {
    "hash": "b4855804758c501db6aeaadaa938f94774f80469bfc4937e2dd123e1f15b80cf"
   }
  }
 },
 "nbformat": 4,
 "nbformat_minor": 2
}
