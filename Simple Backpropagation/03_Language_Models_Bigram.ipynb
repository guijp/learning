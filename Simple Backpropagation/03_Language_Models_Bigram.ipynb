{
 "cells": [
  {
   "cell_type": "code",
   "execution_count": 68,
   "metadata": {},
   "outputs": [],
   "source": [
    "with open('names.txt', 'r') as f:\n",
    "    names = f.read().splitlines()"
   ]
  },
  {
   "cell_type": "code",
   "execution_count": 69,
   "metadata": {},
   "outputs": [],
   "source": [
    "bigrams = {}\n",
    "for name in names:\n",
    "    aug_name = ['.'] + list(name) + ['.']\n",
    "    for char_1, char_2 in zip(aug_name, aug_name[1:]):\n",
    "        chars = (char_1, char_2)\n",
    "        bigrams[chars] = bigrams.get(chars, 0) + 1"
   ]
  },
  {
   "cell_type": "code",
   "execution_count": 70,
   "metadata": {},
   "outputs": [],
   "source": [
    "import torch\n",
    "\n",
    "possible_chars = set(''.join(names))\n",
    "possible_chars.add('.')\n",
    "\n",
    "n_possible_chars = len(possible_chars)\n",
    "\n",
    "char_to_index = {char: i for i, char in enumerate(sorted(possible_chars))}\n",
    "index_to_char = {index: char for char, index in char_to_index.items()}"
   ]
  },
  {
   "cell_type": "code",
   "execution_count": 71,
   "metadata": {},
   "outputs": [],
   "source": [
    "bigram_tensor = torch.zeros((n_possible_chars, n_possible_chars))\n",
    "\n",
    "for key, value in bigrams.items():\n",
    "    char_1 = key[0]\n",
    "    char_2 = key[1]\n",
    "\n",
    "    index_1 = char_to_index[char_1] # row = character start\n",
    "    index_2 = char_to_index[char_2] # col = character end\n",
    "    bigram_tensor[index_1, index_2] = value\n",
    "\n",
    "bigram_tensor = bigram_tensor.float()\n",
    "bigram_tensor /= bigram_tensor.sum(1, keepdim=True)"
   ]
  },
  {
   "cell_type": "code",
   "execution_count": 77,
   "metadata": {},
   "outputs": [
    {
     "name": "stdout",
     "output_type": "stream",
     "text": [
      ".kllevy.\n",
      ".clelonzlenindeira.\n",
      ".denijasshairi.\n",
      ".kana.\n",
      ".maravayakal.\n",
      ".g.\n",
      ".eliyaselhaleramuslelelabrshuilyn.\n",
      ".kihanemo.\n",
      ".tondimaye.\n",
      ".jennethadon.\n"
     ]
    }
   ],
   "source": [
    "# Generate Words using Bigram Information\n",
    "\n",
    "n_words = 10\n",
    "for _ in range(n_words):\n",
    "    c = '.'\n",
    "    word = '.'\n",
    "    while True:\n",
    "        c_index = char_to_index[c] # get the index representation of the character\n",
    "        probabilities = bigram_tensor[c_index] # get the prob vector of the index's row\n",
    "        new_index = torch.multinomial(probabilities, replacement=True, num_samples=1).item() # sample once\n",
    "        c = index_to_char[new_index] # get char from sampled index\n",
    "        word += c # add it to word\n",
    "        if c == '.': # '.' represents the end of the wod\n",
    "            break\n",
    "    print(word)\n",
    "        "
   ]
  },
  {
   "cell_type": "code",
   "execution_count": 76,
   "metadata": {},
   "outputs": [
    {
     "name": "stdout",
     "output_type": "stream",
     "text": [
      ".nctunpjdbdahflxklamtxuwbbsqdpjfa.\n",
      ".ukxyikgyuywxdmatdjvqekaosbbrkhehqueltsypayurxzn.\n",
      ".tkmrglkxkawtlwdatmqcoucjwfcisykgfdiougvfskzcbrlydegybmulczidlrmavw.\n",
      ".jzvqvuewalethrtucauezcmpgfhhiykkgyoeaecexlhyvqommxcejbrzymxmpbhdamodwvctecfctwfcjkzwdfsuhztkyzwwquvbhrchihwdpzhopcmqeweiakjeditrdfojmdwsngqjwrkgnzud.\n",
      ".yd.\n",
      ".qeqoleetrixpnslxzrzmzxmbdcynvcalgporyxgxqrcwcwcezzewheywyvyozfvzhd.\n",
      ".wxbrkmsifqhhcmiheulwggejlkowlivxlbdsqmk.\n",
      ".anstnsfyvmrvrbchrvaegidtegphvauofonzdduxnocroxnndqsynuppibfd.\n",
      ".uvetwxygjigrgzzhlxthqpn.\n",
      ".kcaupaaevo.\n"
     ]
    }
   ],
   "source": [
    "# Generate Words using Uniform Distribution\n",
    "\n",
    "probabilities_uniform = torch.ones(n_possible_chars)\n",
    "probabilities_uniform /= probabilities_uniform.sum()\n",
    "\n",
    "n_words = 10\n",
    "for _ in range(n_words):\n",
    "    c = '.'\n",
    "    word = '.'\n",
    "    while True:\n",
    "        c_index = char_to_index[c]\n",
    "        new_index = torch.multinomial(probabilities_uniform, replacement=True, num_samples=1).item()\n",
    "        c = index_to_char[new_index]\n",
    "        word += c\n",
    "        if c == '.':\n",
    "            break\n",
    "    print(word)\n",
    "\n",
    "        "
   ]
  }
 ],
 "metadata": {
  "kernelspec": {
   "display_name": "base",
   "language": "python",
   "name": "python3"
  },
  "language_info": {
   "codemirror_mode": {
    "name": "ipython",
    "version": 3
   },
   "file_extension": ".py",
   "mimetype": "text/x-python",
   "name": "python",
   "nbconvert_exporter": "python",
   "pygments_lexer": "ipython3",
   "version": "3.6.5"
  },
  "orig_nbformat": 4,
  "vscode": {
   "interpreter": {
    "hash": "b4855804758c501db6aeaadaa938f94774f80469bfc4937e2dd123e1f15b80cf"
   }
  }
 },
 "nbformat": 4,
 "nbformat_minor": 2
}
