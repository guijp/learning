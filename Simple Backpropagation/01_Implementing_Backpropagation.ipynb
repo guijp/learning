{
 "cells": [
  {
   "attachments": {},
   "cell_type": "markdown",
   "metadata": {},
   "source": [
    "# Implementing a Forward Pass + Backpropagation\n",
    "\n",
    "On this notebook, I will be implementing a class with simple forward pass and backpropatagion functionalities. Instead of accounting for the complexities of NNs, class will only deal with simple + and * operations."
   ]
  },
  {
   "cell_type": "code",
   "execution_count": 18,
   "metadata": {},
   "outputs": [],
   "source": [
    "class Node():\n",
    "    def __init__(self, value, local_grad=0, global_grad=0, parents=[]):\n",
    "        self.value = value\n",
    "        self.local_grad = local_grad # local gradient\n",
    "        self.global_grad = global_grad\n",
    "        self.parents = parents\n",
    "    \n",
    "    def __add__(self, other):\n",
    "        value_add = self.value + other.value\n",
    "        self.local_grad = 1 # c = a + b => dc/da = 1\n",
    "        other.local_grad = 1 # c = a + b => dc/db = 1\n",
    "        return Node(value_add, parents=[self, other])\n",
    "\n",
    "    def __mul__(self, other):\n",
    "        value_mul = self.value * other.value\n",
    "        self.local_grad = other.value # c = a * b => dc/da = b\n",
    "        other.local_grad = self.value # c = a * b => dc/db = a\n",
    "        return Node(value_mul, parents=[self, other])\n",
    "\n",
    "    def __repr__(self):\n",
    "        return f\"Node( value={self.value}, global_grad={self.global_grad}, local_grad={self.local_grad})\"\n",
    "\n",
    "    # BFS algorithm to perform backpropagation\n",
    "    def backward(self):\n",
    "        self.local_grad = 1\n",
    "        self.global_grad = 1\n",
    "\n",
    "        visited = [self]\n",
    "        queue = [self]\n",
    "\n",
    "        while queue != []:\n",
    "            node = queue.pop(0)        \n",
    "            for parent in node.parents:\n",
    "                parent.global_grad = node.global_grad * parent.local_grad\n",
    "                visited.append(parent)\n",
    "                queue.append(parent)\n"
   ]
  },
  {
   "cell_type": "code",
   "execution_count": 19,
   "metadata": {},
   "outputs": [],
   "source": [
    "# Constants\n",
    "a = Node(10)\n",
    "b = Node(20)\n",
    "c = Node(-3)\n",
    "\n",
    "\n",
    "x1 = a + b\n",
    "# x1 = 10 + 20 = 30\n",
    "# dx1/da = 1\n",
    "# dx1/db = 1\n",
    "\n",
    "x2 = x1 * c\n",
    "# x2 = 30 * -3 = -90\n",
    "# dx2/dx1 = c = -3\n",
    "# dx2/dc = x1 = 30\n",
    "\n",
    "# Global Derivatives\n",
    "# dx2/da = dx2/dx1 * dx1/da = -3 * 1 = -3\n",
    "# dx2/db = dx2/dx1 * dx2/da = -3 * 1 = -3\n",
    "# dx2/dc = 30"
   ]
  },
  {
   "cell_type": "code",
   "execution_count": 20,
   "metadata": {},
   "outputs": [
    {
     "name": "stdout",
     "output_type": "stream",
     "text": [
      "a = 10 | b = 20 | x1 = a + b = 30\n",
      "dx1/da = 1 | dx1/db = 1\n",
      "\n",
      "\n",
      "x1 = 30 |c = -3 | x2 = x1 * c = -90\n",
      "dx2/dx1 = -3 | dc/db = 30\n"
     ]
    }
   ],
   "source": [
    "print(f\"a = {a.value} | b = {b.value} | x1 = a + b = {x1.value}\")\n",
    "print(f\"dx1/da = {a.local_grad} | dx1/db = {b.local_grad}\")\n",
    "print('\\n')\n",
    "print(f\"x1 = {x1.value} |c = {c.value} | x2 = x1 * c = {x2.value}\")\n",
    "print(f\"dx2/dx1 = {x1.local_grad} | dc/db = {c.local_grad}\")"
   ]
  },
  {
   "cell_type": "code",
   "execution_count": 21,
   "metadata": {},
   "outputs": [],
   "source": [
    "x2.backward()"
   ]
  },
  {
   "cell_type": "code",
   "execution_count": 22,
   "metadata": {},
   "outputs": [
    {
     "name": "stdout",
     "output_type": "stream",
     "text": [
      "dx2/da = -3 | dx2/db = -3 | dx2/dc = 30\n"
     ]
    }
   ],
   "source": [
    "print(f\"dx2/da = {a.global_grad} | dx2/db = {b.global_grad} | dx2/dc = {c.global_grad}\")"
   ]
  }
 ],
 "metadata": {
  "kernelspec": {
   "display_name": "Python 3",
   "language": "python",
   "name": "python3"
  },
  "language_info": {
   "codemirror_mode": {
    "name": "ipython",
    "version": 3
   },
   "file_extension": ".py",
   "mimetype": "text/x-python",
   "name": "python",
   "nbconvert_exporter": "python",
   "pygments_lexer": "ipython3",
   "version": "3.6.2"
  },
  "orig_nbformat": 4,
  "vscode": {
   "interpreter": {
    "hash": "aee8b7b246df8f9039afb4144a1f6fd8d2ca17a180786b69acc140d282b71a49"
   }
  }
 },
 "nbformat": 4,
 "nbformat_minor": 2
}
