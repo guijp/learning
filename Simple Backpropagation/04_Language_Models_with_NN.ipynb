{
 "cells": [
  {
   "cell_type": "code",
   "execution_count": 96,
   "metadata": {},
   "outputs": [],
   "source": [
    "import torch\n",
    "import torch.nn.functional as F"
   ]
  },
  {
   "cell_type": "code",
   "execution_count": 97,
   "metadata": {},
   "outputs": [],
   "source": [
    "with open('names.txt', 'r') as f:\n",
    "    names = f.read().splitlines()\n",
    "\n",
    "possible_chars = sorted(list(set(''.join(names) + '.')))\n",
    "n_chars = len(possible_chars)"
   ]
  },
  {
   "cell_type": "code",
   "execution_count": 98,
   "metadata": {},
   "outputs": [],
   "source": [
    "x = []\n",
    "y = []\n",
    "\n",
    "for name in names:\n",
    "    name_mod = ['.'] + list(name) + ['.']\n",
    "    name_mod = [possible_chars.index(i) for i in name_mod]\n",
    "    x.extend(name_mod[:-1])\n",
    "    y.extend(name_mod[1:])\n",
    "\n",
    "x = torch.tensor(x)\n",
    "y = torch.tensor(y)\n",
    "\n",
    "x_enc = F.one_hot(x, num_classes=n_chars).float()\n",
    "n_x_enc = x_enc.shape[0]"
   ]
  },
  {
   "cell_type": "code",
   "execution_count": 122,
   "metadata": {},
   "outputs": [
    {
     "name": "stdout",
     "output_type": "stream",
     "text": [
      "tensor(3.7919, grad_fn=<NegBackward0>)\n",
      "tensor(2.6687, grad_fn=<NegBackward0>)\n",
      "tensor(2.5663, grad_fn=<NegBackward0>)\n",
      "tensor(2.5280, grad_fn=<NegBackward0>)\n",
      "tensor(2.5086, grad_fn=<NegBackward0>)\n",
      "tensor(2.4969, grad_fn=<NegBackward0>)\n",
      "tensor(2.4891, grad_fn=<NegBackward0>)\n",
      "tensor(2.4834, grad_fn=<NegBackward0>)\n",
      "tensor(2.4792, grad_fn=<NegBackward0>)\n",
      "tensor(2.4758, grad_fn=<NegBackward0>)\n"
     ]
    }
   ],
   "source": [
    "# Building Model and Optimizing It\n",
    "\n",
    "W = torch.randn((27, 27), requires_grad=True) # 27 neurons, each receiving 27 inputs (one hot)\n",
    "n_epochs = 100\n",
    "learning_rate = 50\n",
    "\n",
    "for i in range(n_epochs):\n",
    "\n",
    "    # forward pass\n",
    "    logits = x_enc @ W\n",
    "    counts = logits.exp()\n",
    "    probs = counts / counts.sum(1, keepdim=True)\n",
    "    loss = -probs[torch.arange(n_x_enc), y].log().mean()\n",
    "\n",
    "    if i%10 == 0:\n",
    "        print(loss)\n",
    "\n",
    "    # backpropagate\n",
    "    W.grad = None\n",
    "    loss.backward()\n",
    "    \n",
    "    # update\n",
    "    W.data += -learning_rate * W.grad\n"
   ]
  },
  {
   "cell_type": "code",
   "execution_count": 126,
   "metadata": {},
   "outputs": [
    {
     "name": "stdout",
     "output_type": "stream",
     "text": [
      ".aerasosh.\n",
      ".pech.\n",
      ".jaaien.\n",
      ".sylde.\n",
      ".anayove.\n",
      ".molieita.\n",
      ".mahi.\n",
      ".juheliekakere.\n",
      ".jarisbrahay.\n",
      ".zerruo.\n"
     ]
    }
   ],
   "source": [
    "# Sampling New Examples from the Model\n",
    "\n",
    "n_words = 10\n",
    "\n",
    "for _ in range(n_words):\n",
    "    c = '.'\n",
    "    word = '.'\n",
    "    while True:\n",
    "        idx = torch.tensor(possible_chars.index(c))\n",
    "        one_hot = F.one_hot(idx, num_classes=27).float()\n",
    "        logits = (one_hot @ W).exp()\n",
    "        probs = logits / logits.sum()\n",
    "        \n",
    "        idx = torch.multinomial(probs, replacement=True, num_samples=1)\n",
    "        c = possible_chars[idx]\n",
    "        word += c\n",
    "        if c == '.':\n",
    "            break\n",
    "    print(word)"
   ]
  },
  {
   "cell_type": "code",
   "execution_count": null,
   "metadata": {},
   "outputs": [],
   "source": []
  }
 ],
 "metadata": {
  "kernelspec": {
   "display_name": "base",
   "language": "python",
   "name": "python3"
  },
  "language_info": {
   "codemirror_mode": {
    "name": "ipython",
    "version": 3
   },
   "file_extension": ".py",
   "mimetype": "text/x-python",
   "name": "python",
   "nbconvert_exporter": "python",
   "pygments_lexer": "ipython3",
   "version": "3.6.5 |Anaconda custom (64-bit)| (default, Apr 26 2018, 08:42:37) \n[GCC 4.2.1 Compatible Clang 4.0.1 (tags/RELEASE_401/final)]"
  },
  "orig_nbformat": 4,
  "vscode": {
   "interpreter": {
    "hash": "b4855804758c501db6aeaadaa938f94774f80469bfc4937e2dd123e1f15b80cf"
   }
  }
 },
 "nbformat": 4,
 "nbformat_minor": 2
}
