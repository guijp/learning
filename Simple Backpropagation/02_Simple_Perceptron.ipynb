{
 "cells": [
  {
   "cell_type": "code",
   "execution_count": 520,
   "metadata": {},
   "outputs": [],
   "source": [
    "import math \n",
    "import random\n",
    "\n",
    "class Node():\n",
    "    def __init__(self, value, _backward=None, parents=[]):\n",
    "        self.value = value\n",
    "        self.grad = 0\n",
    "        self._backward = _backward\n",
    "        self.parents = parents\n",
    "    \n",
    "    def __add__(self, other):\n",
    "        other = other if isinstance(other, Node) else Node(other)\n",
    "        value_add = self.value + other.value\n",
    "\n",
    "        def _backward():\n",
    "            self.grad = 1 # c = a + b => dc/da = 1\n",
    "            other.grad = 1 # c = a + b => dc/db = 1\n",
    "        return Node(value_add, parents=[self, other], _backward=_backward)\n",
    "\n",
    "    def __radd__(self,other):\n",
    "        return self + other\n",
    "\n",
    "    def __sub__(self, other):\n",
    "        other = other if isinstance(other, Node) else Node(other)\n",
    "        value_sub = self.value - other.value\n",
    "\n",
    "        def _backward():\n",
    "            self.grad = 1 # c = a + b => dc/da = 1\n",
    "            other.grad = -1 # c = a + b => dc/db = 1\n",
    "        return Node(value_sub, parents=[self, other], _backward=_backward)\n",
    "    \n",
    "    def __rsub__(self,other):\n",
    "        return self - other\n",
    "\n",
    "    def __mul__(self, other):\n",
    "        other = other if isinstance(other, Node) else Node(other)\n",
    "        value_mul = self.value * other.value\n",
    "\n",
    "        def _backward():\n",
    "            self.grad = other.value # c = a * b => dc/da = b\n",
    "            other.grad = self.value # c = a * b => dc/db = a\n",
    "        \n",
    "        return Node(value_mul, parents=[self, other], _backward=_backward)\n",
    "    \n",
    "    def __rmul__(self,other):\n",
    "        return self * other\n",
    "\n",
    "    def __pow__(self, other):\n",
    "        value_pow = self.value ** other\n",
    "\n",
    "        def _backward():\n",
    "            self.grad = other * value_pow ** (other - 1)\n",
    "        \n",
    "        return Node(value_pow, parents=[self,], _backward=_backward)\n",
    "\n",
    "    def sigmoid(self):\n",
    "        value_sigmoid = 1 / (1 + math.exp(-self.value))\n",
    "        \n",
    "        def _backward():\n",
    "            self.grad += value_sigmoid * (1 - value_sigmoid)\n",
    "    \n",
    "        return Node(value_sigmoid, parents=[self], _backward=_backward)\n",
    "\n",
    "    def __repr__(self):\n",
    "        return f\"Node( value={self.value}, grad={self.grad})\"\n",
    "\n",
    "    # BFS algorithm to perform backpropagation\n",
    "    def backward(self):\n",
    "        self.local_grad = 1\n",
    "        self.global_grad = 1\n",
    "\n",
    "        visited = [self]\n",
    "        queue = [self]\n",
    "\n",
    "        while queue != []:\n",
    "            node = queue.pop(0)        \n",
    "            for parent in node.parents:\n",
    "                node._backward()\n",
    "                visited.append(parent)\n",
    "                queue.append(parent)\n"
   ]
  },
  {
   "cell_type": "code",
   "execution_count": 521,
   "metadata": {},
   "outputs": [],
   "source": [
    "class Neuron():\n",
    "    def __init__(self, n_weights):\n",
    "        self.weights = [Node(random.random()) for _ in range(n_weights)]\n",
    "        self.bias = Node(random.random())\n",
    "        self.parameters = self.weights + [self.bias]\n",
    "    \n",
    "    def __call__(self, data):\n",
    "        sum_value = sum( (w*x for w,x in zip(self.weights, data)), self.bias)\n",
    "        return sum_value.sigmoid()"
   ]
  },
  {
   "cell_type": "code",
   "execution_count": 522,
   "metadata": {},
   "outputs": [],
   "source": [
    "# Fixed data set\n",
    "n_samples = 10\n",
    "\n",
    "x_0 = [random.random() for _ in range(n_samples)]\n",
    "x_1 = [100*(0.5 - random.random()) for _ in range(n_samples)]\n",
    "x = list(zip(x_0, x_1))\n",
    "\n",
    "y_true = [1 if i[1]>0 else 0 for i in x ]"
   ]
  },
  {
   "cell_type": "code",
   "execution_count": 523,
   "metadata": {},
   "outputs": [
    {
     "data": {
      "text/plain": [
       "[Node( value=0.408417344694878, grad=0),\n",
       " Node( value=0.9751528210876826, grad=0),\n",
       " Node( value=0.7635167197009194, grad=0)]"
      ]
     },
     "execution_count": 523,
     "metadata": {},
     "output_type": "execute_result"
    }
   ],
   "source": [
    "n.parameters"
   ]
  },
  {
   "cell_type": "code",
   "execution_count": 524,
   "metadata": {},
   "outputs": [],
   "source": [
    "n = Neuron(2)"
   ]
  },
  {
   "cell_type": "code",
   "execution_count": 525,
   "metadata": {},
   "outputs": [
    {
     "data": {
      "text/plain": [
       "Node( value=3.0032674936280976e-09, grad=0)"
      ]
     },
     "execution_count": 525,
     "metadata": {},
     "output_type": "execute_result"
    }
   ],
   "source": [
    "n(x[0])"
   ]
  },
  {
   "cell_type": "code",
   "execution_count": 531,
   "metadata": {},
   "outputs": [
    {
     "name": "stdout",
     "output_type": "stream",
     "text": [
      "0.008135064362473993\n",
      "0.004154670877086152\n",
      "0.0019904369675540533\n",
      "0.0009089471752828902\n",
      "0.0004011049179332367\n",
      "0.00017287091950747785\n",
      "7.333031895573574e-05\n",
      "3.078049382349038e-05\n",
      "1.2831436590032965e-05\n",
      "5.32512229672087e-06\n"
     ]
    }
   ],
   "source": [
    "n_epoch = 1000\n",
    "learning_rate = 0.005\n",
    "\n",
    "for i in range(n_epoch):\n",
    "    # forward pass\n",
    "    y_pred = [n(x) for x in x]\n",
    "    y_loss = sum((y_pred_i - y_true_i)**2 for y_pred_i,y_true_i in zip(y_pred, y_true))*(1/n_samples)\n",
    "\n",
    "    # backward\n",
    "    for p in n.parameters:\n",
    "        p.grad = 0\n",
    "    y_loss.backward()\n",
    "\n",
    "    # update\n",
    "    for p in n.parameters:\n",
    "        p.value += -learning_rate*p.grad*(1/n_samples)\n",
    "\n",
    "    if i%100 == 0:\n",
    "        print(y_loss.value)\n"
   ]
  },
  {
   "cell_type": "code",
   "execution_count": 532,
   "metadata": {},
   "outputs": [
    {
     "data": {
      "text/plain": [
       "[0, 1, 0, 1, 0, 0, 1, 1, 1, 1]"
      ]
     },
     "execution_count": 532,
     "metadata": {},
     "output_type": "execute_result"
    }
   ],
   "source": [
    "y_true"
   ]
  },
  {
   "cell_type": "code",
   "execution_count": 533,
   "metadata": {},
   "outputs": [
    {
     "data": {
      "text/plain": [
       "[Node( value=1.0083689353690345e-146, grad=1),\n",
       " Node( value=1.0, grad=1),\n",
       " Node( value=3.234656072762598e-105, grad=1),\n",
       " Node( value=1.0, grad=1),\n",
       " Node( value=9.534646346637487e-163, grad=1),\n",
       " Node( value=4.1408771624236905e-76, grad=1),\n",
       " Node( value=1.0, grad=1),\n",
       " Node( value=1.0, grad=1),\n",
       " Node( value=1.0, grad=1),\n",
       " Node( value=0.9952850092005565, grad=1)]"
      ]
     },
     "execution_count": 533,
     "metadata": {},
     "output_type": "execute_result"
    }
   ],
   "source": [
    "y_pred"
   ]
  },
  {
   "cell_type": "code",
   "execution_count": null,
   "metadata": {},
   "outputs": [],
   "source": []
  }
 ],
 "metadata": {
  "kernelspec": {
   "display_name": "Python 3",
   "language": "python",
   "name": "python3"
  },
  "language_info": {
   "codemirror_mode": {
    "name": "ipython",
    "version": 3
   },
   "file_extension": ".py",
   "mimetype": "text/x-python",
   "name": "python",
   "nbconvert_exporter": "python",
   "pygments_lexer": "ipython3",
   "version": "3.6.2"
  },
  "orig_nbformat": 4,
  "vscode": {
   "interpreter": {
    "hash": "aee8b7b246df8f9039afb4144a1f6fd8d2ca17a180786b69acc140d282b71a49"
   }
  }
 },
 "nbformat": 4,
 "nbformat_minor": 2
}
