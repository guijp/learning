{
 "cells": [
  {
   "cell_type": "markdown",
   "metadata": {},
   "source": [
    "# CNN for Audio Classification"
   ]
  },
  {
   "cell_type": "code",
   "execution_count": 1,
   "metadata": {},
   "outputs": [
    {
     "name": "stderr",
     "output_type": "stream",
     "text": [
      "/Users/guilhermeperticarari/Desktop/venv/study/lib/python3.6/site-packages/tqdm/auto.py:22: TqdmWarning: IProgress not found. Please update jupyter and ipywidgets. See https://ipywidgets.readthedocs.io/en/stable/user_install.html\n",
      "  from .autonotebook import tqdm as notebook_tqdm\n"
     ]
    }
   ],
   "source": [
    "from torch.utils.data import Dataset\n",
    "from torch.utils.data import DataLoader\n",
    "import torchaudio\n",
    "import pandas as pd\n",
    "import torch\n",
    "import os\n",
    "from torchsummary import summary"
   ]
  },
  {
   "cell_type": "markdown",
   "metadata": {},
   "source": [
    "Building the UrbanSoundDataset Dataset"
   ]
  },
  {
   "cell_type": "code",
   "execution_count": 2,
   "metadata": {},
   "outputs": [],
   "source": [
    "class UrbanSoundDataset(Dataset):\n",
    "    def __init__(self, annotations_path, audio_dir, transformation, target_sample_rate, sample_number):\n",
    "        self.annotations = pd.read_csv(annotations_path)\n",
    "        self.audio_dir = audio_dir\n",
    "        self.transformation = transformation\n",
    "        self.target_sample_rate = target_sample_rate\n",
    "        self.sample_number = sample_number\n",
    "\n",
    "    def __len__(self):\n",
    "        return len(self.annotations)        \n",
    "\n",
    "    def __getitem__(self, index):\n",
    "        audio_sample_path = self._get_audio_sample_path(index)\n",
    "        label = self._get_audio_sample_label(index)\n",
    "        signal, sr = torchaudio.load(audio_sample_path)\n",
    "        signal = self._resample(signal, sr)\n",
    "        signal = self._mix_down(signal)\n",
    "        signal = self._truncate_signal_size(signal, self.sample_number)\n",
    "        signal = self.transformation(signal)\n",
    "        return signal, label\n",
    "\n",
    "    def _get_audio_sample_path(self, index):\n",
    "        folder = f'fold{self.annotations.iloc[index, 5]}'\n",
    "        filename = self.annotations.iloc[index, 0]\n",
    "        path = os.path.join(self.audio_dir, folder, filename)\n",
    "        return path\n",
    "\n",
    "    def _get_audio_sample_label(self, index):\n",
    "        return self.annotations.iloc[index, 6]\n",
    "\n",
    "    def _resample(self, signal, sr):\n",
    "        if sr != self.target_sample_rate:\n",
    "            resampler = torchaudio.transforms.Resample(orig_freq=sr, new_freq=self.target_sample_rate)\n",
    "            signal = resampler(signal)\n",
    "        return signal\n",
    "\n",
    "    def _mix_down(self, signal):\n",
    "        if signal.shape[0] > 1:\n",
    "            signal = torch.mean(signal, dim=0, keepdim=True)\n",
    "        return signal\n",
    "        \n",
    "    def _truncate_signal_size(self, signal, sample_number):\n",
    "        if signal.shape[1] > sample_number:\n",
    "            signal = signal[:, :sample_number]\n",
    "        elif signal.shape[1] < sample_number:\n",
    "            pad_size = sample_number - signal.shape[1]\n",
    "            signal = torch.nn.functional.pad(signal, pad=(0, pad_size), value=0)\n",
    "        return signal\n",
    "        \n"
   ]
  },
  {
   "cell_type": "markdown",
   "metadata": {},
   "source": [
    "Creating the CNN class"
   ]
  },
  {
   "cell_type": "code",
   "execution_count": 3,
   "metadata": {},
   "outputs": [],
   "source": [
    "class CNN(torch.nn.Module):\n",
    "    def __init__(self):\n",
    "        super().__init__()\n",
    "        self.layers = torch.nn.Sequential(\n",
    "\n",
    "            ## Convolution Block [1/4]\n",
    "            torch.nn.Conv2d(in_channels=1, \n",
    "                            out_channels=16, \n",
    "                            kernel_size=3, \n",
    "                            padding=2),\n",
    "            torch.nn.ReLU(),\n",
    "            torch.nn.MaxPool2d(kernel_size=(2, 2), stride=(2, 2)),\n",
    "\n",
    "            ## Convolution Block [2/4]\n",
    "            torch.nn.Conv2d(in_channels=16, \n",
    "                            out_channels=32, \n",
    "                            kernel_size=3, \n",
    "                            padding=2),\n",
    "            torch.nn.ReLU(),\n",
    "            torch.nn.MaxPool2d(kernel_size=(2, 2), stride=(2, 2)),\n",
    "\n",
    "            ## Convolution Block [3/4]\n",
    "            torch.nn.Conv2d(in_channels=32, \n",
    "                            out_channels=64, \n",
    "                            kernel_size=3, \n",
    "                            padding=2),\n",
    "            torch.nn.ReLU(),\n",
    "            torch.nn.MaxPool2d(kernel_size=(2, 2), stride=(2, 2)),\n",
    "\n",
    "            ## Convolution Block [4/4]\n",
    "            torch.nn.Conv2d(in_channels=64, \n",
    "                            out_channels=128, \n",
    "                            kernel_size=3, \n",
    "                            padding=2),\n",
    "            torch.nn.ReLU(),\n",
    "            torch.nn.MaxPool2d(kernel_size=(2, 2), stride=(2, 2)),\n",
    "\n",
    "            torch.nn.Flatten(),\n",
    "\n",
    "            torch.nn.Linear(128 * 5 * 4, 10),\n",
    "            torch.nn.Softmax(dim=1)\n",
    "        )\n",
    "\n",
    "    def forward(self, input):\n",
    "        return self.layers(input)"
   ]
  },
  {
   "cell_type": "code",
   "execution_count": 4,
   "metadata": {},
   "outputs": [],
   "source": [
    "SAMPLE_RATE = 22050\n",
    "SAMPLE_NUMBER = 22050\n",
    "\n",
    "mel_spectogram = torchaudio.transforms.MelSpectrogram(  sample_rate=SAMPLE_RATE,\n",
    "                                                        n_fft=1024,\n",
    "                                                        hop_length=512,\n",
    "                                                        n_mels=64)\n",
    "\n",
    "usd = UrbanSoundDataset(annotations_path='../../../Downloads/archive(4)/UrbanSound8K.csv',\n",
    "                        audio_dir='../../../Downloads/archive(4)',\n",
    "                        transformation=mel_spectogram,\n",
    "                        target_sample_rate=SAMPLE_RATE,\n",
    "                        sample_number=SAMPLE_NUMBER)"
   ]
  },
  {
   "cell_type": "code",
   "execution_count": 5,
   "metadata": {},
   "outputs": [],
   "source": [
    "model = CNN()\n",
    "train_loader = DataLoader(usd, batch_size=128)"
   ]
  },
  {
   "cell_type": "code",
   "execution_count": 6,
   "metadata": {},
   "outputs": [],
   "source": [
    "def train(model, loader, loss_fn, n_batches):\n",
    "    iterations = len(loader)\n",
    "    optimizer = torch.optim.Adam(model.parameters(), lr=0.001)\n",
    "    for batch_i in range(n_batches):\n",
    "        n_correct = 0\n",
    "        n_trained = 0\n",
    "        print(f'Batch: [{batch_i}/{n_batches}]')\n",
    "        for i, (audio, target) in enumerate(loader):\n",
    "            # Forward Pass\n",
    "            pred_prob = model(audio)\n",
    "\n",
    "            # Loss Calculation\n",
    "            loss = loss_fn(pred_prob, target)\n",
    "\n",
    "            # Backprop\n",
    "            optimizer.zero_grad()\n",
    "            loss.backward()\n",
    "            optimizer.step()\n",
    "\n",
    "            # Get Accuracy\n",
    "            with torch.no_grad():\n",
    "                n_correct += (target == pred_prob.argmax(1)).sum().item()\n",
    "                n_trained += len(audio)\n",
    "\n",
    "            if i%10 == 0:\n",
    "                print(f' [{i}/{iterations}] - samples_analyzed: {n_trained} | loss: {loss} | accuracy: {n_correct/n_trained}')\n"
   ]
  },
  {
   "cell_type": "markdown",
   "metadata": {},
   "source": [
    "Training the model for 5 batches"
   ]
  },
  {
   "cell_type": "code",
   "execution_count": 8,
   "metadata": {},
   "outputs": [
    {
     "name": "stdout",
     "output_type": "stream",
     "text": [
      "Batch: [0/10]\n",
      " [0/69] - samples_analyzed: 128 | loss: 2.245386838912964 | accuracy: 0.2265625\n",
      " [10/69] - samples_analyzed: 1408 | loss: 2.314112901687622 | accuracy: 0.11931818181818182\n",
      " [20/69] - samples_analyzed: 2688 | loss: 2.315645456314087 | accuracy: 0.12202380952380952\n",
      " [30/69] - samples_analyzed: 3968 | loss: 2.4611504077911377 | accuracy: 0.1305443548387097\n",
      " [40/69] - samples_analyzed: 5248 | loss: 2.3503973484039307 | accuracy: 0.1442454268292683\n",
      " [50/69] - samples_analyzed: 6528 | loss: 2.336120128631592 | accuracy: 0.13985906862745098\n",
      " [60/69] - samples_analyzed: 7808 | loss: 2.4608023166656494 | accuracy: 0.13857581967213115\n",
      "Batch: [1/10]\n",
      " [0/69] - samples_analyzed: 128 | loss: 2.2798194885253906 | accuracy: 0.1796875\n",
      " [10/69] - samples_analyzed: 1408 | loss: 2.282097816467285 | accuracy: 0.10511363636363637\n",
      " [20/69] - samples_analyzed: 2688 | loss: 2.3230583667755127 | accuracy: 0.11644345238095238\n",
      " [30/69] - samples_analyzed: 3968 | loss: 2.4611434936523438 | accuracy: 0.12626008064516128\n",
      " [40/69] - samples_analyzed: 5248 | loss: 2.334015369415283 | accuracy: 0.14005335365853658\n",
      " [50/69] - samples_analyzed: 6528 | loss: 2.3358633518218994 | accuracy: 0.14215686274509803\n",
      " [60/69] - samples_analyzed: 7808 | loss: 2.4134953022003174 | accuracy: 0.14690061475409835\n",
      "Batch: [2/10]\n",
      " [0/69] - samples_analyzed: 128 | loss: 2.2563910484313965 | accuracy: 0.203125\n",
      " [10/69] - samples_analyzed: 1408 | loss: 2.2935009002685547 | accuracy: 0.11789772727272728\n",
      " [20/69] - samples_analyzed: 2688 | loss: 2.2772388458251953 | accuracy: 0.12574404761904762\n",
      " [30/69] - samples_analyzed: 3968 | loss: 2.4599742889404297 | accuracy: 0.13482862903225806\n",
      " [40/69] - samples_analyzed: 5248 | loss: 2.350078582763672 | accuracy: 0.14329268292682926\n",
      " [50/69] - samples_analyzed: 6528 | loss: 2.3514933586120605 | accuracy: 0.14292279411764705\n",
      " [60/69] - samples_analyzed: 7808 | loss: 2.437375545501709 | accuracy: 0.14536372950819673\n",
      "Batch: [3/10]\n",
      " [0/69] - samples_analyzed: 128 | loss: 2.2547826766967773 | accuracy: 0.203125\n",
      " [10/69] - samples_analyzed: 1408 | loss: 2.2817118167877197 | accuracy: 0.11150568181818182\n",
      " [20/69] - samples_analyzed: 2688 | loss: 2.2774436473846436 | accuracy: 0.12313988095238096\n",
      " [30/69] - samples_analyzed: 3968 | loss: 2.461150884628296 | accuracy: 0.13205645161290322\n",
      " [40/69] - samples_analyzed: 5248 | loss: 2.3893790245056152 | accuracy: 0.14291158536585366\n",
      " [50/69] - samples_analyzed: 6528 | loss: 2.3986501693725586 | accuracy: 0.13434436274509803\n",
      " [60/69] - samples_analyzed: 7808 | loss: 2.460801124572754 | accuracy: 0.13268442622950818\n",
      "Batch: [4/10]\n",
      " [0/69] - samples_analyzed: 128 | loss: 2.266666889190674 | accuracy: 0.1953125\n",
      " [10/69] - samples_analyzed: 1408 | loss: 2.307626485824585 | accuracy: 0.12002840909090909\n",
      " [20/69] - samples_analyzed: 2688 | loss: 2.2396373748779297 | accuracy: 0.13690476190476192\n",
      " [30/69] - samples_analyzed: 3968 | loss: 2.4611504077911377 | accuracy: 0.1461693548387097\n",
      " [40/69] - samples_analyzed: 5248 | loss: 2.3428852558135986 | accuracy: 0.15434451219512196\n",
      " [50/69] - samples_analyzed: 6528 | loss: 2.3361494541168213 | accuracy: 0.15333946078431374\n",
      " [60/69] - samples_analyzed: 7808 | loss: 2.4530208110809326 | accuracy: 0.15458504098360656\n",
      "Batch: [5/10]\n",
      " [0/69] - samples_analyzed: 128 | loss: 2.258653402328491 | accuracy: 0.203125\n",
      " [10/69] - samples_analyzed: 1408 | loss: 2.2982254028320312 | accuracy: 0.12215909090909091\n",
      " [20/69] - samples_analyzed: 2688 | loss: 2.250990629196167 | accuracy: 0.13504464285714285\n",
      " [30/69] - samples_analyzed: 3968 | loss: 2.461150884628296 | accuracy: 0.14390120967741934\n",
      " [40/69] - samples_analyzed: 5248 | loss: 2.342214345932007 | accuracy: 0.15186737804878048\n",
      " [50/69] - samples_analyzed: 6528 | loss: 2.297088384628296 | accuracy: 0.15242034313725492\n",
      " [60/69] - samples_analyzed: 7808 | loss: 2.437384605407715 | accuracy: 0.1559938524590164\n",
      "Batch: [6/10]\n",
      " [0/69] - samples_analyzed: 128 | loss: 2.270251750946045 | accuracy: 0.1875\n",
      " [10/69] - samples_analyzed: 1408 | loss: 2.3127286434173584 | accuracy: 0.1299715909090909\n",
      " [20/69] - samples_analyzed: 2688 | loss: 2.2229106426239014 | accuracy: 0.14248511904761904\n",
      " [30/69] - samples_analyzed: 3968 | loss: 2.461150884628296 | accuracy: 0.1502016129032258\n",
      " [40/69] - samples_analyzed: 5248 | loss: 2.34279203414917 | accuracy: 0.15701219512195122\n",
      " [50/69] - samples_analyzed: 6528 | loss: 2.2969536781311035 | accuracy: 0.15747549019607843\n",
      " [60/69] - samples_analyzed: 7808 | loss: 2.4374704360961914 | accuracy: 0.1604764344262295\n",
      "Batch: [7/10]\n",
      " [0/69] - samples_analyzed: 128 | loss: 2.2558372020721436 | accuracy: 0.203125\n",
      " [10/69] - samples_analyzed: 1408 | loss: 2.3047516345977783 | accuracy: 0.12926136363636365\n",
      " [20/69] - samples_analyzed: 2688 | loss: 2.2085535526275635 | accuracy: 0.13988095238095238\n",
      " [30/69] - samples_analyzed: 3968 | loss: 2.461150884628296 | accuracy: 0.14768145161290322\n",
      " [40/69] - samples_analyzed: 5248 | loss: 2.3434019088745117 | accuracy: 0.1564405487804878\n",
      " [50/69] - samples_analyzed: 6528 | loss: 2.367400884628296 | accuracy: 0.14981617647058823\n",
      " [60/69] - samples_analyzed: 7808 | loss: 2.461024761199951 | accuracy: 0.14754098360655737\n",
      "Batch: [8/10]\n",
      " [0/69] - samples_analyzed: 128 | loss: 2.3038828372955322 | accuracy: 0.15625\n",
      " [10/69] - samples_analyzed: 1408 | loss: 2.2888236045837402 | accuracy: 0.09588068181818182\n",
      " [20/69] - samples_analyzed: 2688 | loss: 2.168834686279297 | accuracy: 0.11979166666666667\n",
      " [30/69] - samples_analyzed: 3968 | loss: 2.461150884628296 | accuracy: 0.13256048387096775\n",
      " [40/69] - samples_analyzed: 5248 | loss: 2.38283634185791 | accuracy: 0.14615091463414634\n",
      " [50/69] - samples_analyzed: 6528 | loss: 2.398650884628296 | accuracy: 0.13556985294117646\n",
      " [60/69] - samples_analyzed: 7808 | loss: 2.46110463142395 | accuracy: 0.12986680327868852\n",
      "Batch: [9/10]\n",
      " [0/69] - samples_analyzed: 128 | loss: 2.3464713096618652 | accuracy: 0.1171875\n",
      " [10/69] - samples_analyzed: 1408 | loss: 2.2769033908843994 | accuracy: 0.07528409090909091\n",
      " [20/69] - samples_analyzed: 2688 | loss: 2.142092227935791 | accuracy: 0.10677083333333333\n",
      " [30/69] - samples_analyzed: 3968 | loss: 2.461150884628296 | accuracy: 0.12071572580645161\n",
      " [40/69] - samples_analyzed: 5248 | loss: 2.398552179336548 | accuracy: 0.13338414634146342\n",
      " [50/69] - samples_analyzed: 6528 | loss: 2.398650884628296 | accuracy: 0.12408088235294118\n",
      " [60/69] - samples_analyzed: 7808 | loss: 2.4611265659332275 | accuracy: 0.12026127049180328\n"
     ]
    }
   ],
   "source": [
    "loss_fn = torch.nn.CrossEntropyLoss()\n",
    "\n",
    "train(model, train_loader, loss_fn, n_batches=10)"
   ]
  },
  {
   "cell_type": "code",
   "execution_count": null,
   "metadata": {},
   "outputs": [],
   "source": []
  }
 ],
 "metadata": {
  "kernelspec": {
   "display_name": "Python 3.6.5 ('study')",
   "language": "python",
   "name": "python3"
  },
  "language_info": {
   "codemirror_mode": {
    "name": "ipython",
    "version": 3
   },
   "file_extension": ".py",
   "mimetype": "text/x-python",
   "name": "python",
   "nbconvert_exporter": "python",
   "pygments_lexer": "ipython3",
   "version": "3.6.5"
  },
  "orig_nbformat": 4,
  "vscode": {
   "interpreter": {
    "hash": "a2282c59fc62e496575584c9dbb07c6d2b8e29762f5e38bc89c1826f2135d1f7"
   }
  }
 },
 "nbformat": 4,
 "nbformat_minor": 2
}
