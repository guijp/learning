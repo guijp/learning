{
 "cells": [
  {
   "cell_type": "markdown",
   "metadata": {},
   "source": [
    "# Creating and Training a Neural Network \n",
    "\n",
    "Refresher on how to create and train a Neural Network using PyTorch"
   ]
  },
  {
   "cell_type": "code",
   "execution_count": 138,
   "metadata": {},
   "outputs": [],
   "source": [
    "import torch\n",
    "from torchvision import datasets\n",
    "from torchvision.transforms import ToTensor\n",
    "from torch.utils.data import DataLoader"
   ]
  },
  {
   "cell_type": "markdown",
   "metadata": {},
   "source": [
    "- Dataset: Class containing the actual data\n",
    "- DataLoader: Wrapper that unloads batches of data from a dataset"
   ]
  },
  {
   "cell_type": "code",
   "execution_count": 65,
   "metadata": {},
   "outputs": [],
   "source": [
    "train_dataset = datasets.MNIST(\n",
    "    root='data',\n",
    "    download=True,\n",
    "    train=True,\n",
    "    transform=ToTensor()\n",
    ")\n",
    "train_loader = DataLoader(train_dataset, batch_size=32, shuffle=True)\n",
    "\n",
    "validation_dataset = datasets.MNIST(\n",
    "    root='data',\n",
    "    download=True,\n",
    "    train=False,\n",
    "    transform=ToTensor()\n",
    ")\n",
    "validation_loader = DataLoader(validation_dataset, batch_size=32, shuffle=True)"
   ]
  },
  {
   "cell_type": "markdown",
   "metadata": {},
   "source": [
    "Definition of a custom Neural Network with 1 Convolution + Pooling Layer, 1 Flatten layer and 2 Dense layers"
   ]
  },
  {
   "cell_type": "code",
   "execution_count": 115,
   "metadata": {},
   "outputs": [],
   "source": [
    "class NeuralNetwork(torch.nn.Module):\n",
    "    def __init__(self):\n",
    "        super().__init__()\n",
    "        self.layers = torch.nn.Sequential(\n",
    "            torch.nn.Conv2d(in_channels=1, out_channels=10, kernel_size=(5,5), padding='same'),\n",
    "            torch.nn.ReLU(),\n",
    "            torch.nn.MaxPool2d(kernel_size=(2, 2), stride=(2, 2)),\n",
    "            torch.nn.Flatten(),\n",
    "            torch.nn.Linear(1960, 256),\n",
    "            torch.nn.ReLU(),\n",
    "            torch.nn.Linear(256, 10),\n",
    "            torch.nn.Softmax(dim=1)\n",
    "        )\n",
    "\n",
    "    def forward(self, input):\n",
    "        return self.layers(input)"
   ]
  },
  {
   "cell_type": "markdown",
   "metadata": {},
   "source": [
    "Creating an instance of the Neural Network class"
   ]
  },
  {
   "cell_type": "code",
   "execution_count": 116,
   "metadata": {},
   "outputs": [],
   "source": [
    "model = NeuralNetwork()"
   ]
  },
  {
   "cell_type": "markdown",
   "metadata": {},
   "source": [
    "Defining a training loop"
   ]
  },
  {
   "cell_type": "code",
   "execution_count": 117,
   "metadata": {},
   "outputs": [],
   "source": [
    "def train(model, train_loader, n_epochs, learning_rate=1e-5):\n",
    "    loss_fn = torch.nn.CrossEntropyLoss()\n",
    "    optimizer = torch.optim.Adam(params=model.parameters(), lr=learning_rate)\n",
    "    iterations = len(train_loader)\n",
    "    for epoch_i in range(n_epochs):\n",
    "        print(f'Running Epoch: [{epoch_i+1}/{n_epochs}]')\n",
    "        for i, (x,y) in enumerate(train_loader):\n",
    "\n",
    "            # Forward Pass\n",
    "            y_pred_prob = model(x)\n",
    "            \n",
    "            # Calculate Loss\n",
    "            loss = loss_fn(y_pred_prob, y)\n",
    "\n",
    "            # Backpropagate\n",
    "            optimizer.zero_grad()\n",
    "            loss.backward()\n",
    "            optimizer.step()\n",
    "\n",
    "            if i%300 == 0 and i>1:\n",
    "                print(f'    - [{i}/{iterations}] | Loss: {loss.item()}')"
   ]
  },
  {
   "cell_type": "markdown",
   "metadata": {},
   "source": [
    "Training the model for 10 epochs"
   ]
  },
  {
   "cell_type": "code",
   "execution_count": 118,
   "metadata": {},
   "outputs": [
    {
     "name": "stdout",
     "output_type": "stream",
     "text": [
      "Running Epoch: [1/10]\n",
      "    - [300/1875] | Loss: 2.2782182693481445\n",
      "    - [600/1875] | Loss: 2.1906015872955322\n",
      "    - [900/1875] | Loss: 2.142874002456665\n",
      "    - [1200/1875] | Loss: 1.9919164180755615\n",
      "    - [1500/1875] | Loss: 1.993850827217102\n",
      "    - [1800/1875] | Loss: 1.7980072498321533\n",
      "Running Epoch: [2/10]\n",
      "    - [300/1875] | Loss: 1.831040859222412\n",
      "    - [600/1875] | Loss: 1.7632853984832764\n",
      "    - [900/1875] | Loss: 1.8502992391586304\n",
      "    - [1200/1875] | Loss: 1.6823924779891968\n",
      "    - [1500/1875] | Loss: 1.7281488180160522\n",
      "    - [1800/1875] | Loss: 1.6838058233261108\n",
      "Running Epoch: [3/10]\n",
      "    - [300/1875] | Loss: 1.6847962141036987\n",
      "    - [600/1875] | Loss: 1.590571403503418\n",
      "    - [900/1875] | Loss: 1.6375477313995361\n",
      "    - [1200/1875] | Loss: 1.6273255348205566\n",
      "    - [1500/1875] | Loss: 1.6652591228485107\n",
      "    - [1800/1875] | Loss: 1.585179090499878\n",
      "Running Epoch: [4/10]\n",
      "    - [300/1875] | Loss: 1.6140488386154175\n",
      "    - [600/1875] | Loss: 1.5639899969100952\n",
      "    - [900/1875] | Loss: 1.671234130859375\n",
      "    - [1200/1875] | Loss: 1.6440684795379639\n",
      "    - [1500/1875] | Loss: 1.586907982826233\n",
      "    - [1800/1875] | Loss: 1.596067190170288\n",
      "Running Epoch: [5/10]\n",
      "    - [300/1875] | Loss: 1.6120177507400513\n",
      "    - [600/1875] | Loss: 1.5364515781402588\n",
      "    - [900/1875] | Loss: 1.5935879945755005\n",
      "    - [1200/1875] | Loss: 1.5681246519088745\n",
      "    - [1500/1875] | Loss: 1.5753083229064941\n",
      "    - [1800/1875] | Loss: 1.545412540435791\n",
      "Running Epoch: [6/10]\n",
      "    - [300/1875] | Loss: 1.5747374296188354\n",
      "    - [600/1875] | Loss: 1.6636552810668945\n",
      "    - [900/1875] | Loss: 1.582532286643982\n",
      "    - [1200/1875] | Loss: 1.5031338930130005\n",
      "    - [1500/1875] | Loss: 1.5209828615188599\n",
      "    - [1800/1875] | Loss: 1.6083863973617554\n",
      "Running Epoch: [7/10]\n",
      "    - [300/1875] | Loss: 1.5148717164993286\n",
      "    - [600/1875] | Loss: 1.5740501880645752\n",
      "    - [900/1875] | Loss: 1.5458309650421143\n",
      "    - [1200/1875] | Loss: 1.5615150928497314\n",
      "    - [1500/1875] | Loss: 1.6188403367996216\n",
      "    - [1800/1875] | Loss: 1.5815263986587524\n",
      "Running Epoch: [8/10]\n",
      "    - [300/1875] | Loss: 1.615921974182129\n",
      "    - [600/1875] | Loss: 1.5893280506134033\n",
      "    - [900/1875] | Loss: 1.5235538482666016\n",
      "    - [1200/1875] | Loss: 1.5274308919906616\n",
      "    - [1500/1875] | Loss: 1.4830585718154907\n",
      "    - [1800/1875] | Loss: 1.5663036108016968\n",
      "Running Epoch: [9/10]\n",
      "    - [300/1875] | Loss: 1.5083812475204468\n",
      "    - [600/1875] | Loss: 1.617293357849121\n",
      "    - [900/1875] | Loss: 1.4894094467163086\n",
      "    - [1200/1875] | Loss: 1.5962899923324585\n",
      "    - [1500/1875] | Loss: 1.5437768697738647\n",
      "    - [1800/1875] | Loss: 1.5866097211837769\n",
      "Running Epoch: [10/10]\n",
      "    - [300/1875] | Loss: 1.6246424913406372\n",
      "    - [600/1875] | Loss: 1.6234441995620728\n",
      "    - [900/1875] | Loss: 1.5114548206329346\n",
      "    - [1200/1875] | Loss: 1.5441869497299194\n",
      "    - [1500/1875] | Loss: 1.5678421258926392\n",
      "    - [1800/1875] | Loss: 1.5170923471450806\n"
     ]
    }
   ],
   "source": [
    "train(model, train_loader, n_epochs=10)"
   ]
  },
  {
   "cell_type": "code",
   "execution_count": 119,
   "metadata": {},
   "outputs": [
    {
     "name": "stdout",
     "output_type": "stream",
     "text": [
      "Accuracy on the validation set: 0.9313\n"
     ]
    }
   ],
   "source": [
    "n_correct = 0\n",
    "n_total = len(validation_dataset)\n",
    "for (x,y) in validation_loader:\n",
    "    with torch.no_grad():\n",
    "        y_pred_prob = model(x)\n",
    "        y_pred = y_pred_prob.argmax(1)\n",
    "        n_correct += (y == y_pred).type(torch.float).sum().item()\n",
    "\n",
    "print(f'Accuracy on the validation set: {n_correct/n_total}')\n",
    "    "
   ]
  },
  {
   "cell_type": "code",
   "execution_count": 121,
   "metadata": {},
   "outputs": [
    {
     "data": {
      "image/png": "[encoded data removed]",
      "text/plain": [
       "<Figure size 432x288 with 1 Axes>"
      ]
     },
     "metadata": {
      "needs_background": "light"
     },
     "output_type": "display_data"
    },
    {
     "data": {
      "image/png": "[encoded data removed]",
      "text/plain": [
       "<Figure size 432x288 with 1 Axes>"
      ]
     },
     "metadata": {
      "needs_background": "light"
     },
     "output_type": "display_data"
    },
    {
     "data": {
      "image/png": "[encoded data removed]",
      "text/plain": [
       "<Figure size 432x288 with 1 Axes>"
      ]
     },
     "metadata": {
      "needs_background": "light"
     },
     "output_type": "display_data"
    }
   ],
   "source": [
    "import matplotlib.pyplot as plt\n",
    "\n",
    "label_mapping = [\n",
    "    \"0\",\n",
    "    \"1\",\n",
    "    \"2\",\n",
    "    \"3\",\n",
    "    \"4\",\n",
    "    \"5\",\n",
    "    \"6\",\n",
    "    \"7\",\n",
    "    \"8\",\n",
    "    \"9\"\n",
    "]\n",
    "\n",
    "(x,y) = next(iter(validation_loader))\n",
    "\n",
    "for i in range(3):\n",
    "    image = x[i].squeeze()\n",
    "    label = label_mapping[y[i]]\n",
    "    pred = model(x[i].unsqueeze(1))\n",
    "    pred_label = label_mapping[pred.argmax(1)]\n",
    "    plt.imshow(image, cmap='gray')\n",
    "    plt.title(f'True: {label} | Predicted: {pred_label}')\n",
    "    plt.show()"
   ]
  }
 ],
 "metadata": {
  "kernelspec": {
   "display_name": "Python 3.6.5 ('study')",
   "language": "python",
   "name": "python3"
  },
  "language_info": {
   "codemirror_mode": {
    "name": "ipython",
    "version": 3
   },
   "file_extension": ".py",
   "mimetype": "text/x-python",
   "name": "python",
   "nbconvert_exporter": "python",
   "pygments_lexer": "ipython3",
   "version": "3.6.5"
  },
  "orig_nbformat": 4,
  "vscode": {
   "interpreter": {
    "hash": "a2282c59fc62e496575584c9dbb07c6d2b8e29762f5e38bc89c1826f2135d1f7"
   }
  }
 },
 "nbformat": 4,
 "nbformat_minor": 2
}
