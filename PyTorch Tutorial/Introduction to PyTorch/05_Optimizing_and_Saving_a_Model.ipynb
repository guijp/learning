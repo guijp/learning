{
 "cells": [
  {
   "cell_type": "markdown",
   "metadata": {},
   "source": [
    "# Optimizing and Saving / Loading a Model"
   ]
  },
  {
   "cell_type": "code",
   "execution_count": 1,
   "metadata": {},
   "outputs": [
    {
     "name": "stderr",
     "output_type": "stream",
     "text": [
      "/Users/guilhermeperticarari/Desktop/venv/study/lib/python3.6/site-packages/tqdm/auto.py:22: TqdmWarning: IProgress not found. Please update jupyter and ipywidgets. See https://ipywidgets.readthedocs.io/en/stable/user_install.html\n",
      "  from .autonotebook import tqdm as notebook_tqdm\n"
     ]
    }
   ],
   "source": [
    "import torch\n",
    "from torch.utils.data import DataLoader\n",
    "from torchvision import datasets\n",
    "from torchvision.transforms import ToTensor, Lambda"
   ]
  },
  {
   "cell_type": "markdown",
   "metadata": {},
   "source": [
    "Downloading the FashionMNIST dataset and wrapping it in a DataLoader."
   ]
  },
  {
   "cell_type": "code",
   "execution_count": 2,
   "metadata": {},
   "outputs": [],
   "source": [
    "BATCH_SIZE = 64\n",
    "\n",
    "train_data = datasets.FashionMNIST(\n",
    "    root=\"data\",\n",
    "    train=True,\n",
    "    download=True,\n",
    "    transform=ToTensor()\n",
    ")\n",
    "train_loader = DataLoader(train_data, batch_size=BATCH_SIZE)\n",
    "\n",
    "test_data = datasets.FashionMNIST(\n",
    "    root=\"data\",\n",
    "    train=False,\n",
    "    download=True,\n",
    "    transform=ToTensor()\n",
    ")\n",
    "test_loader = DataLoader(test_data, batch_size=BATCH_SIZE)\n"
   ]
  },
  {
   "cell_type": "code",
   "execution_count": null,
   "metadata": {},
   "outputs": [],
   "source": []
  },
  {
   "cell_type": "code",
   "execution_count": 3,
   "metadata": {},
   "outputs": [],
   "source": [
    "class NeuralNetwork(torch.nn.Module):\n",
    "    def __init__(self):\n",
    "        super(NeuralNetwork, self).__init__()\n",
    "        self.model = torch.nn.Sequential(\n",
    "            torch.nn.Flatten(),\n",
    "            torch.nn.Linear(28*28, 1024),\n",
    "            torch.nn.ReLU(),\n",
    "            torch.nn.Linear(1024, 1024),\n",
    "            torch.nn.ReLU(),\n",
    "            torch.nn.Linear(1024, 10),\n",
    "            torch.nn.Softmax(dim=1)\n",
    "        )\n",
    "\n",
    "    def forward(self, input):\n",
    "        return self.model(input)\n",
    "\n",
    "model = NeuralNetwork()"
   ]
  },
  {
   "cell_type": "code",
   "execution_count": 11,
   "metadata": {},
   "outputs": [],
   "source": [
    "def train_loop(model, train_dataloader, epochs, learning_rate=1e-6):\n",
    "    loss_function = torch.nn.CrossEntropyLoss()\n",
    "    optimizer = torch.optim.Adam(model.parameters(), lr=learning_rate)\n",
    "    size_train = len(train_dataloader.dataset)\n",
    "    iterations = len(train_dataloader)\n",
    "    for epoch in range(epochs):\n",
    "        correct_train = 0\n",
    "        print(f'Epoch: [{epoch+1}/{epochs}]')\n",
    "        for i, (x, y) in enumerate(train_dataloader):\n",
    "            predictions = model(x)\n",
    "            loss = loss_function(predictions, y)\n",
    "            with torch.no_grad():\n",
    "                correct_train += (predictions.argmax(1) == y).type(torch.float).sum().item()\n",
    "            \n",
    "            # Backpropagation\n",
    "            optimizer.zero_grad()\n",
    "            loss.backward()\n",
    "            optimizer.step()\n",
    "\n",
    "            if i % 100 == 0 and i>0:\n",
    "                print(f'    - [{i+1} / {iterations}] - loss: {loss.item()}')\n",
    "            \n",
    "        print(f\"loss: {loss:>7f} | Train Accuracy: {correct_train/size_train}\")"
   ]
  },
  {
   "cell_type": "code",
   "execution_count": 12,
   "metadata": {},
   "outputs": [
    {
     "name": "stdout",
     "output_type": "stream",
     "text": [
      "Epoch: [1/3]\n",
      "    - [101 / 938] - loss: 1.7372955083847046\n",
      "    - [201 / 938] - loss: 1.6352391242980957\n",
      "    - [301 / 938] - loss: 1.7216038703918457\n",
      "    - [401 / 938] - loss: 1.6904946565628052\n",
      "    - [501 / 938] - loss: 1.6492092609405518\n",
      "    - [601 / 938] - loss: 1.6795302629470825\n",
      "    - [701 / 938] - loss: 1.6973241567611694\n",
      "    - [801 / 938] - loss: 1.6769626140594482\n",
      "    - [901 / 938] - loss: 1.7166748046875\n",
      "loss: 1.700471 | Train Accuracy: 0.7982166666666667\n",
      "Epoch: [2/3]\n",
      "    - [101 / 938] - loss: 1.7339836359024048\n",
      "    - [201 / 938] - loss: 1.634127140045166\n",
      "    - [301 / 938] - loss: 1.7208024263381958\n",
      "    - [401 / 938] - loss: 1.690353274345398\n",
      "    - [501 / 938] - loss: 1.6492655277252197\n",
      "    - [601 / 938] - loss: 1.6785224676132202\n",
      "    - [701 / 938] - loss: 1.6968646049499512\n",
      "    - [801 / 938] - loss: 1.6759741306304932\n",
      "    - [901 / 938] - loss: 1.7155123949050903\n",
      "loss: 1.699959 | Train Accuracy: 0.79845\n",
      "Epoch: [3/3]\n",
      "    - [101 / 938] - loss: 1.7327214479446411\n",
      "    - [201 / 938] - loss: 1.6338533163070679\n",
      "    - [301 / 938] - loss: 1.719609260559082\n",
      "    - [401 / 938] - loss: 1.689908504486084\n",
      "    - [501 / 938] - loss: 1.649036169052124\n",
      "    - [601 / 938] - loss: 1.6775496006011963\n",
      "    - [701 / 938] - loss: 1.6963417530059814\n",
      "    - [801 / 938] - loss: 1.6751623153686523\n",
      "    - [901 / 938] - loss: 1.714552640914917\n",
      "loss: 1.699508 | Train Accuracy: 0.7991\n"
     ]
    }
   ],
   "source": [
    "train_loop(model, train_loader, epochs=3)"
   ]
  },
  {
   "cell_type": "code",
   "execution_count": 28,
   "metadata": {},
   "outputs": [
    {
     "name": "stdout",
     "output_type": "stream",
     "text": [
      "Test Accuracy: 0.7918\n"
     ]
    }
   ],
   "source": [
    "# Testing the model\n",
    "def test(model, test_loader):\n",
    "    correct_predictions = 0\n",
    "    total_predictions = len(test_loader.dataset)\n",
    "    for (x,y) in test_loader:\n",
    "        y_prob_pred = model(x)\n",
    "        with torch.no_grad():\n",
    "            y_pred = y_prob_pred.argmax(1)\n",
    "            correct_predictions += (y == y_pred).type(torch.float32).sum().item()\n",
    "    print(f\"Test Accuracy: {correct_predictions/total_predictions}\")\n",
    "\n",
    "test(model, test_loader)"
   ]
  },
  {
   "cell_type": "markdown",
   "metadata": {},
   "source": [
    "Saving the model"
   ]
  },
  {
   "cell_type": "code",
   "execution_count": 29,
   "metadata": {},
   "outputs": [
    {
     "name": "stdout",
     "output_type": "stream",
     "text": [
      "Test Accuracy: 0.7918\n"
     ]
    }
   ],
   "source": [
    "# We can save the instance of our NeuralNetwork class with its optimized weights and biases\n",
    "torch.save(model, 'model.pth')\n",
    "\n",
    "model_loaded = torch.load('model.pth')\n",
    "\n",
    "# Testing the model loaded (should be the same result as above)\n",
    "test(model_loaded, test_loader)"
   ]
  },
  {
   "cell_type": "code",
   "execution_count": 31,
   "metadata": {},
   "outputs": [
    {
     "name": "stdout",
     "output_type": "stream",
     "text": [
      "Test Accuracy: 0.7918\n"
     ]
    }
   ],
   "source": [
    "# We can also just save the parameters and then pass it to an empty instance of the NeuralNetwork class\n",
    "torch.save(model.state_dict(), 'model_params.pth')\n",
    "\n",
    "model_empty = NeuralNetwork()\n",
    "\n",
    "loaded_state_dict = torch.load('model_params.pth')\n",
    "model_empty.load_state_dict(loaded_state_dict)\n",
    "model_empty.eval() # turning on evaluation mode (ignores dropout layers etc)\n",
    "\n",
    "# Testing the model loaded (should be the same result as above)\n",
    "test(model_empty, test_loader)"
   ]
  }
 ],
 "metadata": {
  "kernelspec": {
   "display_name": "Python 3.6.5 ('study')",
   "language": "python",
   "name": "python3"
  },
  "language_info": {
   "codemirror_mode": {
    "name": "ipython",
    "version": 3
   },
   "file_extension": ".py",
   "mimetype": "text/x-python",
   "name": "python",
   "nbconvert_exporter": "python",
   "pygments_lexer": "ipython3",
   "version": "3.6.5"
  },
  "orig_nbformat": 4,
  "vscode": {
   "interpreter": {
    "hash": "a2282c59fc62e496575584c9dbb07c6d2b8e29762f5e38bc89c1826f2135d1f7"
   }
  }
 },
 "nbformat": 4,
 "nbformat_minor": 2
}
