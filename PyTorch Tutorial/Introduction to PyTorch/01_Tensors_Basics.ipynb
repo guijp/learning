{
 "cells": [
  {
   "cell_type": "markdown",
   "metadata": {},
   "source": [
    "# [Tensors Basics](https://pytorch.org/tutorials/beginner/basics/tensor_tutorial.html)\n",
    "\n",
    "Tensors are multidimensional arrays and are the basis for Deep Learning frameworks. They are analogous to numpy.ndarrays, but are more convenient because:\n",
    "- they can be processed in GPUs\n",
    "- they are optimized to calculate gradients automatically"
   ]
  },
  {
   "cell_type": "code",
   "execution_count": 5,
   "metadata": {},
   "outputs": [],
   "source": [
    "import torch\n",
    "import numpy as np"
   ]
  },
  {
   "cell_type": "markdown",
   "metadata": {},
   "source": [
    "## Initializing Tensors\n",
    "\n",
    "Tensors can be initialized in many ways:\n",
    "\n",
    "1. Directly from lists"
   ]
  },
  {
   "cell_type": "code",
   "execution_count": 8,
   "metadata": {},
   "outputs": [
    {
     "data": {
      "text/plain": [
       "tensor([[2, 3],\n",
       "        [4, 5]])"
      ]
     },
     "execution_count": 8,
     "metadata": {},
     "output_type": "execute_result"
    }
   ],
   "source": [
    "tensor_from_data = torch.tensor([[2,3], [4,5]])\n",
    "tensor_from_data"
   ]
  },
  {
   "cell_type": "markdown",
   "metadata": {},
   "source": [
    "2. From a numpy array"
   ]
  },
  {
   "cell_type": "code",
   "execution_count": 9,
   "metadata": {},
   "outputs": [
    {
     "data": {
      "text/plain": [
       "tensor([1, 2, 3, 4])"
      ]
     },
     "execution_count": 9,
     "metadata": {},
     "output_type": "execute_result"
    }
   ],
   "source": [
    "array = np.array([1,2,3,4])\n",
    "\n",
    "tensor_from_numpy = torch.from_numpy(array)\n",
    "tensor_from_numpy"
   ]
  },
  {
   "cell_type": "markdown",
   "metadata": {},
   "source": [
    "3. from another tensor: by copying the dtype and shape of the original tensor"
   ]
  },
  {
   "cell_type": "code",
   "execution_count": 12,
   "metadata": {},
   "outputs": [
    {
     "data": {
      "text/plain": [
       "tensor([1, 1, 1, 1])"
      ]
     },
     "execution_count": 12,
     "metadata": {},
     "output_type": "execute_result"
    }
   ],
   "source": [
    "tensor_from_tensor = torch.ones_like(tensor_from_numpy)\n",
    "tensor_from_tensor"
   ]
  },
  {
   "cell_type": "markdown",
   "metadata": {},
   "source": [
    "4. with random or constant values"
   ]
  },
  {
   "cell_type": "code",
   "execution_count": 15,
   "metadata": {},
   "outputs": [
    {
     "name": "stdout",
     "output_type": "stream",
     "text": [
      "tensor([[1., 1., 1., 1.],\n",
      "        [1., 1., 1., 1.],\n",
      "        [1., 1., 1., 1.],\n",
      "        [1., 1., 1., 1.]])\n",
      "tensor([[0., 0., 0., 0.],\n",
      "        [0., 0., 0., 0.],\n",
      "        [0., 0., 0., 0.],\n",
      "        [0., 0., 0., 0.]])\n",
      "tensor([[0.9027, 0.6215, 0.7238, 0.2466],\n",
      "        [0.4262, 0.0372, 0.1556, 0.4464],\n",
      "        [0.3473, 0.6230, 0.8679, 0.8904],\n",
      "        [0.9050, 0.3615, 0.4410, 0.2664]])\n"
     ]
    }
   ],
   "source": [
    "shape = (4,4)\n",
    "\n",
    "tensor_ones = torch.ones(shape)\n",
    "print(tensor_ones)\n",
    "\n",
    "tensor_zeros = torch.zeros(shape)\n",
    "print(tensor_zeros)\n",
    "\n",
    "tensor_rand = torch.rand(shape)\n",
    "print(tensor_rand)"
   ]
  },
  {
   "cell_type": "markdown",
   "metadata": {},
   "source": [
    "## Properties of Tensors\n",
    "\n",
    "The most common attributes of tensors are:\n",
    "- shape = # rows, # columns\n",
    "- type = type of the entries (all of them have to be of the same type)\n",
    "- device = device the tensor is stored on"
   ]
  },
  {
   "cell_type": "code",
   "execution_count": 17,
   "metadata": {},
   "outputs": [
    {
     "name": "stdout",
     "output_type": "stream",
     "text": [
      "Shape of tensor: torch.Size([5, 3])\n",
      "Type of tensor: torch.float32\n",
      "Device the tensor is stored on: cpu\n"
     ]
    }
   ],
   "source": [
    "tensor_rand = torch.rand((5,3))\n",
    "\n",
    "print(f'Shape of tensor: {tensor_rand.shape}')\n",
    "print(f'Type of tensor: {tensor_rand.dtype}')\n",
    "print(f'Device the tensor is stored on: {tensor_rand.device}')"
   ]
  },
  {
   "cell_type": "markdown",
   "metadata": {},
   "source": [
    "Tensors are, by default, created on CPU. If we want to use them on GPU, we need to explicitely send them there."
   ]
  },
  {
   "cell_type": "code",
   "execution_count": 19,
   "metadata": {},
   "outputs": [
    {
     "name": "stdout",
     "output_type": "stream",
     "text": [
      "GPU not available.\n"
     ]
    }
   ],
   "source": [
    "if torch.cuda.is_available():\n",
    "    tensor = tensor_rand.to('cuda')\n",
    "else:\n",
    "    print('GPU not available.')\n"
   ]
  },
  {
   "cell_type": "markdown",
   "metadata": {},
   "source": [
    "## Tensor operations\n",
    "\n",
    "Tensor operations are very similar to what you can do on numpy for np.arrays."
   ]
  },
  {
   "cell_type": "code",
   "execution_count": 27,
   "metadata": {},
   "outputs": [
    {
     "data": {
      "text/plain": [
       "tensor([[1, 2],\n",
       "        [3, 4],\n",
       "        [5, 6]])"
      ]
     },
     "execution_count": 27,
     "metadata": {},
     "output_type": "execute_result"
    }
   ],
   "source": [
    "tensor = torch.tensor([[1,2], [3,4], [5,6]])\n",
    "tensor"
   ]
  },
  {
   "cell_type": "code",
   "execution_count": 24,
   "metadata": {},
   "outputs": [
    {
     "data": {
      "text/plain": [
       "tensor([3, 4])"
      ]
     },
     "execution_count": 24,
     "metadata": {},
     "output_type": "execute_result"
    }
   ],
   "source": [
    "# Select the second row\n",
    "tensor[1, :]"
   ]
  },
  {
   "cell_type": "code",
   "execution_count": 26,
   "metadata": {},
   "outputs": [
    {
     "data": {
      "text/plain": [
       "tensor([1, 3, 5])"
      ]
     },
     "execution_count": 26,
     "metadata": {},
     "output_type": "execute_result"
    }
   ],
   "source": [
    "# Select the first column\n",
    "tensor[:, 0]"
   ]
  },
  {
   "cell_type": "code",
   "execution_count": 28,
   "metadata": {},
   "outputs": [
    {
     "data": {
      "text/plain": [
       "tensor([2, 4, 6])"
      ]
     },
     "execution_count": 28,
     "metadata": {},
     "output_type": "execute_result"
    }
   ],
   "source": [
    "# Select the last column\n",
    "tensor[:, -1]"
   ]
  },
  {
   "cell_type": "code",
   "execution_count": 30,
   "metadata": {},
   "outputs": [
    {
     "data": {
      "text/plain": [
       "tensor([[1., 2., 1., 1.],\n",
       "        [3., 4., 1., 1.],\n",
       "        [5., 6., 1., 1.]])"
      ]
     },
     "execution_count": 30,
     "metadata": {},
     "output_type": "execute_result"
    }
   ],
   "source": [
    "# Concatenate tensors with compatible shapes\n",
    "tensor_2 = torch.ones(3,2)\n",
    "\n",
    "torch.cat([tensor, tensor_2], dim=1)"
   ]
  },
  {
   "cell_type": "code",
   "execution_count": 33,
   "metadata": {},
   "outputs": [
    {
     "data": {
      "text/plain": [
       "tensor([[ 2,  4],\n",
       "        [14,  8]])"
      ]
     },
     "execution_count": 33,
     "metadata": {},
     "output_type": "execute_result"
    }
   ],
   "source": [
    "# multiply two matrices \n",
    "\n",
    "m1 = torch.tensor([ [2,0], \n",
    "                    [0,2]])\n",
    "                    \n",
    "m2 = torch.tensor([ [1,2],\n",
    "                    [7,4]])\n",
    "\n",
    "m3 = m1 @ m2\n",
    "m3"
   ]
  },
  {
   "cell_type": "code",
   "execution_count": 34,
   "metadata": {},
   "outputs": [
    {
     "data": {
      "text/plain": [
       "tensor([[2, 0],\n",
       "        [0, 8]])"
      ]
     },
     "execution_count": 34,
     "metadata": {},
     "output_type": "execute_result"
    }
   ],
   "source": [
    "# multiply two matrices element-wise\n",
    "\n",
    "m1 = torch.tensor([ [2,0], \n",
    "                    [0,2]])\n",
    "                    \n",
    "m2 = torch.tensor([ [1,2], \n",
    "                    [7,4]])\n",
    "\n",
    "m3 = m1 * m2\n",
    "m3"
   ]
  },
  {
   "cell_type": "markdown",
   "metadata": {},
   "source": [
    "**Bridge with NumPy**\n",
    "\n",
    "numpy.arrays and torch.tensors can share the same CPU storage (address) by using the numpy() function. Changing one will change the other as well."
   ]
  },
  {
   "cell_type": "code",
   "execution_count": 35,
   "metadata": {},
   "outputs": [
    {
     "name": "stdout",
     "output_type": "stream",
     "text": [
      "tensor: tensor([2]), array: [2]\n",
      "tensor: tensor([3]), array: [3]\n"
     ]
    }
   ],
   "source": [
    "tensor = torch.tensor([2])\n",
    "array = tensor.numpy()\n",
    "\n",
    "print(f'tensor: {tensor}, array: {array}')\n",
    "\n",
    "array += 1\n",
    "\n",
    "print(f'tensor: {tensor}, array: {array}')\n"
   ]
  },
  {
   "cell_type": "code",
   "execution_count": 37,
   "metadata": {},
   "outputs": [
    {
     "name": "stdout",
     "output_type": "stream",
     "text": [
      "tensor: tensor([1, 2]), array: [1 2]\n",
      "tensor: tensor([2, 3]), array: [2 3]\n"
     ]
    }
   ],
   "source": [
    "array = np.array([1,2])\n",
    "tensor = torch.from_numpy(array)\n",
    "\n",
    "print(f'tensor: {tensor}, array: {array}')\n",
    "\n",
    "tensor += 1\n",
    "\n",
    "print(f'tensor: {tensor}, array: {array}')"
   ]
  }
 ],
 "metadata": {
  "kernelspec": {
   "display_name": "Python 3.6.5 ('study')",
   "language": "python",
   "name": "python3"
  },
  "language_info": {
   "codemirror_mode": {
    "name": "ipython",
    "version": 3
   },
   "file_extension": ".py",
   "mimetype": "text/x-python",
   "name": "python",
   "nbconvert_exporter": "python",
   "pygments_lexer": "ipython3",
   "version": "3.6.5"
  },
  "orig_nbformat": 4,
  "vscode": {
   "interpreter": {
    "hash": "a2282c59fc62e496575584c9dbb07c6d2b8e29762f5e38bc89c1826f2135d1f7"
   }
  }
 },
 "nbformat": 4,
 "nbformat_minor": 2
}
