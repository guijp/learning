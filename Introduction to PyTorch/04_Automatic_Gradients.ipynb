{
 "cells": [
  {
   "cell_type": "markdown",
   "metadata": {},
   "source": [
    "# Automatic Gradiants\n",
    "\n",
    "The most common algorithm to update weights and biases in a NN is called **backpropagation**. This algorithms uses the derivative of the loss function with respect to each one of the weights in order to choose a good 'next guess' for each iteration.\n",
    "\n",
    "PyTorch tensors that have **require_grad=True** calculate these gradients automatically."
   ]
  },
  {
   "cell_type": "code",
   "execution_count": 28,
   "metadata": {},
   "outputs": [
    {
     "data": {
      "text/plain": [
       "<torch._C.Generator at 0x10c75f048>"
      ]
     },
     "execution_count": 28,
     "metadata": {},
     "output_type": "execute_result"
    }
   ],
   "source": [
    "import torch\n",
    "\n",
    "torch.manual_seed(42)"
   ]
  },
  {
   "cell_type": "code",
   "execution_count": 29,
   "metadata": {},
   "outputs": [
    {
     "data": {
      "text/plain": [
       "tensor(3.2332, grad_fn=<MseLossBackward0>)"
      ]
     },
     "execution_count": 29,
     "metadata": {},
     "output_type": "execute_result"
    }
   ],
   "source": [
    "# Generating dummy input (1, 5) and target (1)\n",
    "input = torch.rand((1,5))\n",
    "target = torch.rand(1).squeeze()\n",
    "\n",
    "# Generating dummy weights and biases\n",
    "# requires_grad = True because we need to calculate d(loss)/d(weight_i) in order to optimize these weights\n",
    "weight = torch.rand((5,1), requires_grad=True)\n",
    "bias = torch.rand(1, requires_grad=True)\n",
    "\n",
    "# Forward pass\n",
    "prediction = (input @ weight + bias).squeeze()\n",
    "\n",
    "# Comparing the prediction with the target to get a loss function\n",
    "loss = torch.nn.functional.mse_loss(prediction, target)\n",
    "loss"
   ]
  },
  {
   "cell_type": "code",
   "execution_count": 30,
   "metadata": {},
   "outputs": [
    {
     "name": "stdout",
     "output_type": "stream",
     "text": [
      "tensor([[3.1728],\n",
      "        [3.2905],\n",
      "        [1.3769],\n",
      "        [3.4499],\n",
      "        [1.4041]])\n",
      "tensor([3.5962])\n"
     ]
    }
   ],
   "source": [
    "# This function, which can only be used once, calculates the gradients of the \n",
    "#      loss function in respect to all weights that have property requires_grad = True\n",
    "loss.backward()\n",
    "\n",
    "# Get d(loss)/d(w_i) for each entry in tensors: weights and biases\n",
    "print(weight.grad)\n",
    "print(bias.grad)"
   ]
  },
  {
   "cell_type": "markdown",
   "metadata": {},
   "source": [
    "Sometimes, we may want to disable the calculation of gradients in variables whose gradients were previously being tracked.\n",
    "\n",
    "For instance:\n",
    "- to set some neurons as 'frozen'\n",
    "- after having trained the network, we might only want to use it for prediction on new data"
   ]
  },
  {
   "cell_type": "code",
   "execution_count": 38,
   "metadata": {},
   "outputs": [
    {
     "name": "stdout",
     "output_type": "stream",
     "text": [
      "True\n",
      "False\n",
      "False\n"
     ]
    }
   ],
   "source": [
    "x = torch.rand(1)\n",
    "w = torch.rand(1, requires_grad=True)\n",
    "b = torch.rand(1, requires_grad=True)\n",
    "\n",
    "# we can do it with torch.no_grad()\n",
    "z1 = x * w + b\n",
    "print(z1.requires_grad)\n",
    "\n",
    "with torch.no_grad():\n",
    "    z2 = x * w + b \n",
    "    print(z2.requires_grad)\n",
    "\n",
    "# We can also use .detach() \n",
    "z1_d = z1.detach()\n",
    "print(z1_d.requires_grad)\n"
   ]
  }
 ],
 "metadata": {
  "kernelspec": {
   "display_name": "Python 3.6.5 ('study')",
   "language": "python",
   "name": "python3"
  },
  "language_info": {
   "codemirror_mode": {
    "name": "ipython",
    "version": 3
   },
   "file_extension": ".py",
   "mimetype": "text/x-python",
   "name": "python",
   "nbconvert_exporter": "python",
   "pygments_lexer": "ipython3",
   "version": "3.6.5"
  },
  "orig_nbformat": 4,
  "vscode": {
   "interpreter": {
    "hash": "a2282c59fc62e496575584c9dbb07c6d2b8e29762f5e38bc89c1826f2135d1f7"
   }
  }
 },
 "nbformat": 4,
 "nbformat_minor": 2
}
