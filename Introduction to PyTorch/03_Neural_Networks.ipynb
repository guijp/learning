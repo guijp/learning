{
 "cells": [
  {
   "cell_type": "markdown",
   "metadata": {},
   "source": [
    "# Neural Networks"
   ]
  },
  {
   "cell_type": "code",
   "execution_count": 1,
   "metadata": {},
   "outputs": [
    {
     "name": "stderr",
     "output_type": "stream",
     "text": [
      "/Users/guilhermeperticarari/Desktop/venv/study/lib/python3.6/site-packages/tqdm/auto.py:22: TqdmWarning: IProgress not found. Please update jupyter and ipywidgets. See https://ipywidgets.readthedocs.io/en/stable/user_install.html\n",
      "  from .autonotebook import tqdm as notebook_tqdm\n"
     ]
    }
   ],
   "source": [
    "import torch "
   ]
  },
  {
   "cell_type": "markdown",
   "metadata": {},
   "source": [
    "Building Neural Network using PyTorch is very simple. \n",
    "\n",
    "First, we need to create our custom NeuralNetwork class with nn.Module as a parent class.\n",
    "\n",
    "Your custom NeuralNetwork class will have to include:\n",
    "- an **__init__(self)** constructor that calls the parent class' **__init__()** function\n",
    "- a **self.forward(self, input)** function that applied the forward pass of the network"
   ]
  },
  {
   "cell_type": "code",
   "execution_count": 2,
   "metadata": {},
   "outputs": [],
   "source": [
    "class NeuralNetwork(torch.nn.Module):\n",
    "    def __init__(self):\n",
    "        super(NeuralNetwork, self).__init__()\n",
    "        self.network = torch.nn.Sequential(\n",
    "            torch.nn.Linear(5, 128),    # (w*x + b): from 5 neurons (input) to 128 neurons\n",
    "            torch.nn.ReLU(),            # ReLU activation\n",
    "            torch.nn.Linear(128, 512),  # (w*x + b): from 128 neurons to 512 neurons\n",
    "            torch.nn.ReLU(),            # ReLU activation\n",
    "            torch.nn.Linear(512, 10),   # (w*x + b): from 512 neurons to 10\n",
    "            torch.nn.Softmax(dim=1) # dim=1 means that every row will sum to 100%.\n",
    "                                    # dim=0 means that every column will sum to 100%\n",
    "        )\n",
    "\n",
    "    def forward(self, input):\n",
    "        logit = self.network(input)\n",
    "        return logit"
   ]
  },
  {
   "cell_type": "code",
   "execution_count": 3,
   "metadata": {},
   "outputs": [
    {
     "data": {
      "text/plain": [
       "tensor([[0.1180, 0.1004, 0.0947, 0.1022, 0.0962, 0.0952, 0.1065, 0.1003, 0.0950,\n",
       "         0.0916]], grad_fn=<SoftmaxBackward0>)"
      ]
     },
     "execution_count": 3,
     "metadata": {},
     "output_type": "execute_result"
    }
   ],
   "source": [
    "# Initializing instance of the Neural Network class\n",
    "model = NeuralNetwork()\n",
    "\n",
    "# Creating a random input like [x1, x2, x3, x4, x5]\n",
    "input = torch.rand((1,5))\n",
    "\n",
    "# We should NEVER call the forward function directly. Just call model(input)\n",
    "model(input)"
   ]
  },
  {
   "cell_type": "markdown",
   "metadata": {},
   "source": [
    "Let's see what some pre-built NN layer in PyTorch do. "
   ]
  },
  {
   "cell_type": "code",
   "execution_count": 4,
   "metadata": {},
   "outputs": [
    {
     "name": "stdout",
     "output_type": "stream",
     "text": [
      "Size of the image batch: torch.Size([3, 28, 28])\n"
     ]
    },
    {
     "data": {
      "image/png": "[encoded data removed]",
      "text/plain": [
       "<Figure size 432x288 with 1 Axes>"
      ]
     },
     "metadata": {
      "needs_background": "light"
     },
     "output_type": "display_data"
    },
    {
     "data": {
      "image/png": "[encoded data removed]",
      "text/plain": [
       "<Figure size 432x288 with 1 Axes>"
      ]
     },
     "metadata": {
      "needs_background": "light"
     },
     "output_type": "display_data"
    },
    {
     "data": {
      "image/png": "[encoded data removed]",
      "text/plain": [
       "<Figure size 432x288 with 1 Axes>"
      ]
     },
     "metadata": {
      "needs_background": "light"
     },
     "output_type": "display_data"
    }
   ],
   "source": [
    "# We'll create a random tensor of type (3, 28, 28) that represents a batch of 3 (28, 28) images\n",
    "image_batch = torch.rand(3, 28, 28) \n",
    "print(f'Size of the image batch: {image_batch.size()}')\n",
    "\n",
    "\n",
    "import matplotlib.pyplot as plt\n",
    "\n",
    "for i in range(3):\n",
    "    fig = plt.figure()\n",
    "    plt.title(f'random image [{i+1}/3]')\n",
    "    plt.imshow(  image_batch[i], cmap='gray')\n",
    "    plt.show()"
   ]
  },
  {
   "cell_type": "code",
   "execution_count": 5,
   "metadata": {},
   "outputs": [
    {
     "data": {
      "text/plain": [
       "<torch._C.Generator at 0x1086e8630>"
      ]
     },
     "execution_count": 5,
     "metadata": {},
     "output_type": "execute_result"
    }
   ],
   "source": [
    "torch.manual_seed(42)"
   ]
  },
  {
   "cell_type": "code",
   "execution_count": 6,
   "metadata": {},
   "outputs": [
    {
     "data": {
      "text/plain": [
       "tensor([[0.6721, 0.8061, 0.3495,  ..., 0.5051, 0.2129, 0.6805],\n",
       "        [0.8912, 0.9012, 0.9021,  ..., 0.5599, 0.3207, 0.8865],\n",
       "        [0.2767, 0.9867, 0.3822,  ..., 0.1393, 0.3640, 0.6173]])"
      ]
     },
     "execution_count": 6,
     "metadata": {},
     "output_type": "execute_result"
    }
   ],
   "source": [
    "# Flatten will convert each (28, 28) image to a (1, 784) tensor. Minibatch dimensions are kept.\n",
    "flatten = torch.nn.Flatten()\n",
    "flatten_image_batch = flatten(image_batch)\n",
    "\n",
    "# Each row is the flattened version (784 columns) of each image in the batch\n",
    "flatten_image_batch"
   ]
  },
  {
   "cell_type": "code",
   "execution_count": 7,
   "metadata": {},
   "outputs": [
    {
     "data": {
      "text/plain": [
       "tensor([[-0.7324,  0.4194, -0.1462,  0.3569, -0.3217, -0.1682,  0.6785],\n",
       "        [-0.7287,  0.2114, -0.0959,  0.3377, -0.4356,  0.0659,  0.7635],\n",
       "        [-0.7578,  0.3597, -0.2605,  0.1875, -0.3180, -0.3312,  0.3829]],\n",
       "       grad_fn=<AddmmBackward0>)"
      ]
     },
     "execution_count": 7,
     "metadata": {},
     "output_type": "execute_result"
    }
   ],
   "source": [
    "# Linear will apply a linear transformation (w*x + b) to an input.\n",
    "# The input and output dimensions need to be specified.\n",
    "linear = torch.nn.Linear(784, 7)\n",
    "linear_image_batch = linear(flatten_image_batch)\n",
    "\n",
    "# Each row is the result of the linear transformation on the flattened version of each image in the batch\n",
    "linear_image_batch"
   ]
  },
  {
   "cell_type": "code",
   "execution_count": 8,
   "metadata": {},
   "outputs": [
    {
     "data": {
      "text/plain": [
       "tensor([[0.0000, 0.4194, 0.0000, 0.3569, 0.0000, 0.0000, 0.6785],\n",
       "        [0.0000, 0.2114, 0.0000, 0.3377, 0.0000, 0.0659, 0.7635],\n",
       "        [0.0000, 0.3597, 0.0000, 0.1875, 0.0000, 0.0000, 0.3829]],\n",
       "       grad_fn=<ReluBackward0>)"
      ]
     },
     "execution_count": 8,
     "metadata": {},
     "output_type": "execute_result"
    }
   ],
   "source": [
    "# ReLU will apply the ReLU activation function. ReLU(x) = max(0, x).\n",
    "relu = torch.nn.ReLU()\n",
    "relu_image_batch = relu(linear_image_batch)\n",
    "\n",
    "relu_image_batch"
   ]
  },
  {
   "cell_type": "code",
   "execution_count": 9,
   "metadata": {},
   "outputs": [
    {
     "name": "stdout",
     "output_type": "stream",
     "text": [
      "tensor([[0.2084, 0.1791, 0.1761, 0.1950, 0.2414],\n",
      "        [0.2088, 0.1837, 0.1852, 0.1832, 0.2391],\n",
      "        [0.1830, 0.1708, 0.1836, 0.2154, 0.2472]], grad_fn=<SoftmaxBackward0>)\n",
      "tensor([4, 4, 4])\n"
     ]
    }
   ],
   "source": [
    "linear_2 = torch.nn.Linear(7, 5)\n",
    "linear_image_batch_2 = linear_2(relu_image_batch)\n",
    "\n",
    "# Softmax will apply the softmax function row-wise (dim=1) or column-wise (dim=0)\n",
    "softmax = torch.nn.Softmax(dim=1)\n",
    "softmax_image_batch = softmax(linear_image_batch_2)\n",
    "\n",
    "# Notice that each row sums to 100%.\n",
    "# Each x[i,j] can be understood as the % of chance of image [i] being of class [j]\n",
    "print(softmax_image_batch)\n",
    "\n",
    "# We can use argmax() to find out which class is the most likely, which would be our model's prediction\n",
    "print(softmax_image_batch.argmax(dim=1))"
   ]
  },
  {
   "cell_type": "code",
   "execution_count": 10,
   "metadata": {},
   "outputs": [
    {
     "data": {
      "text/plain": [
       "tensor([[0.2084, 0.1791, 0.1761, 0.1950, 0.2414],\n",
       "        [0.2088, 0.1837, 0.1852, 0.1832, 0.2391],\n",
       "        [0.1830, 0.1708, 0.1836, 0.2154, 0.2472]], grad_fn=<SoftmaxBackward0>)"
      ]
     },
     "execution_count": 10,
     "metadata": {},
     "output_type": "execute_result"
    }
   ],
   "source": [
    "torch.manual_seed(42)\n",
    "# Sequential is an ordered container for different NN layers.\n",
    "# The inputs will be transformed according to the order of the layers.\n",
    "\n",
    "sequential = torch.nn.Sequential(\n",
    "    torch.nn.Flatten(),\n",
    "    torch.nn.Linear(784, 7),\n",
    "    torch.nn.ReLU(),\n",
    "    torch.nn.Linear(7, 5),\n",
    "    torch.nn.Softmax(dim=1)\n",
    ")\n",
    "\n",
    "sequential(image_batch)\n",
    "\n",
    "# Notice that the values are the same as the separate steps above. \n",
    "# This is the case because:\n",
    "#   1. We set the manual seed to the same state, so the weights and biases on the Linear layers are the same\n",
    "#   . The operations are performed in the same sequence"
   ]
  }
 ],
 "metadata": {
  "kernelspec": {
   "display_name": "Python 3.6.5 ('study')",
   "language": "python",
   "name": "python3"
  },
  "language_info": {
   "codemirror_mode": {
    "name": "ipython",
    "version": 3
   },
   "file_extension": ".py",
   "mimetype": "text/x-python",
   "name": "python",
   "nbconvert_exporter": "python",
   "pygments_lexer": "ipython3",
   "version": "3.6.5"
  },
  "orig_nbformat": 4,
  "vscode": {
   "interpreter": {
    "hash": "a2282c59fc62e496575584c9dbb07c6d2b8e29762f5e38bc89c1826f2135d1f7"
   }
  }
 },
 "nbformat": 4,
 "nbformat_minor": 2
}
